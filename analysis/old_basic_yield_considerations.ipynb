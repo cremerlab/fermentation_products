{
 "cells": [
  {
   "cell_type": "code",
   "execution_count": null,
   "id": "0b354d2b-7a8f-40e9-a745-4138238ebce0",
   "metadata": {},
   "outputs": [],
   "source": [
    "# Basic theoreticl yield considerations\n",
    "\n",
    "#Currently not used."
   ]
  },
  {
   "cell_type": "code",
   "execution_count": 2,
   "id": "3414657e-3081-4e10-9a73-680c1564eeb5",
   "metadata": {},
   "outputs": [],
   "source": [
    "import numpy as np\n",
    "import pandas as pd\n",
    "import matplotlib.pyplot as plt\n",
    "import matplotlib\n",
    "matplotlib.rcParams['pdf.fonttype'] = 42\n",
    "matplotlib.rcParams['ps.fonttype'] = 42\n",
    "from matplotlib.ticker import PercentFormatter\n",
    "import scipy\n",
    "\n"
   ]
  },
  {
   "cell_type": "code",
   "execution_count": 3,
   "id": "61516415-cd5d-4523-ad70-67c1dbce87a2",
   "metadata": {},
   "outputs": [
    {
     "ename": "NameError",
     "evalue": "name 'excretionBg' is not defined",
     "output_type": "error",
     "traceback": [
      "\u001b[0;31m---------------------------------------------------------------------------\u001b[0m",
      "\u001b[0;31mNameError\u001b[0m                                 Traceback (most recent call last)",
      "Cell \u001b[0;32mIn[3], line 21\u001b[0m\n\u001b[1;32m     12\u001b[0m ATPgain\u001b[38;5;241m=\u001b[39m[\u001b[38;5;241m2\u001b[39m,\u001b[38;5;241m2\u001b[39m,\u001b[38;5;241m0\u001b[39m,\u001b[38;5;241m2\u001b[39m,\u001b[38;5;241m2\u001b[39m]\u001b[38;5;66;03m#ATP gain for the cell per excreted acetate, butyrate, lactate, propinonate, succinate\u001b[39;00m\n\u001b[1;32m     13\u001b[0m \u001b[38;5;66;03m#most of the pathways give 2ATP per secretion of a fermentation product, but lactate does not give any atp (but helps with the redox balance)\u001b[39;00m\n\u001b[1;32m     14\u001b[0m \n\u001b[1;32m     15\u001b[0m \u001b[38;5;66;03m#####\u001b[39;00m\n\u001b[0;32m   (...)\u001b[0m\n\u001b[1;32m     19\u001b[0m \u001b[38;5;66;03m#excretionBg fermentation products released (in mmol/g)\u001b[39;00m\n\u001b[1;32m     20\u001b[0m \u001b[38;5;66;03m#ATP release per fermentation\u001b[39;00m\n\u001b[0;32m---> 21\u001b[0m ATPyieldc\u001b[38;5;241m=\u001b[39mnp\u001b[38;5;241m.\u001b[39marray([np\u001b[38;5;241m.\u001b[39msum(ATPgain\u001b[38;5;241m*\u001b[39m\u001b[43mexcretionBg\u001b[49m),np\u001b[38;5;241m.\u001b[39msum(ATPgain\u001b[38;5;241m*\u001b[39mexcretionEg)])\u001b[38;5;66;03m#in mmol ATP/g\u001b[39;00m\n\u001b[1;32m     22\u001b[0m \u001b[38;5;66;03m#convert to g/mol ATP\u001b[39;00m\n\u001b[1;32m     23\u001b[0m ATPyieldc\u001b[38;5;241m=\u001b[39m\u001b[38;5;241m1000.\u001b[39m\u001b[38;5;241m/\u001b[39mATPyieldc\n",
      "\u001b[0;31mNameError\u001b[0m: name 'excretionBg' is not defined"
     ]
    }
   ],
   "source": [
    "# Compare yield numbers to ATP yield\n",
    "\n",
    "#Comparison of different yield numbers and approaches to compare energy demand for bacterial growth#####\n",
    "#start with glucose yield numbers\n",
    "#####\n",
    "\n",
    "####\n",
    "#look into pathways, how many ATP are obtained per fermentation product. This varies with the metabolic pathways involves. And in principle it also depends on the type of sugar involved. But things simplify as glucose and other substrates are mostly utilized via glycolysis.\n",
    "#considering glycolysis, the first step is to go from 1 glucose \n",
    "####\n",
    "#how much ATP is released per fermentation pathway\n",
    "ATPgain=[2,2,0,2,2]#ATP gain for the cell per excreted acetate, butyrate, lactate, propinonate, succinate\n",
    "#most of the pathways give 2ATP per secretion of a fermentation product, but lactate does not give any atp (but helps with the redox balance)\n",
    "\n",
    "#####\n",
    "#use excretion numbers to estimate ATP\n",
    "#####\n",
    "\n",
    "#excretionBg fermentation products released (in mmol/g)\n",
    "#ATP release per fermentation\n",
    "ATPyieldc=np.array([np.sum(ATPgain*excretionBg),np.sum(ATPgain*excretionEg)])#in mmol ATP/g\n",
    "#convert to g/mol ATP\n",
    "ATPyieldc=1000./ATPyieldc\n",
    "print(\"ATP yield estimated via excretion of fermentation products (g/mol ATP)\")\n",
    "print(ATPyieldc)\n",
    "\n",
    "#B.theta and E.rectale yield in OD/mM\n",
    "yield_glucose=np.array([0.148, 0.094])\n",
    "yield_glucose_std=np.array([0.046,0.009])\n",
    "#conversion in g/mmol\n",
    "conversitionOD=np.array([0.507,0.5,0.494,0.522,0.516,0.513]).mean() #in g/(l*OD) #this is based on Basan et al 2015 (inflating cell size), for our spec\n",
    "yield_glucose=1000*yield_glucose*conversitionOD #in g/mol=OD l/mol *g/l/OD=g/mol; (1000 to coonvert mmol to mol)\n",
    "yield_glucose_std=1000*yield_glucose_std*conversitionOD\n",
    "print(\"measred yields in g/mol glucose for B. theta and E. rectale\")\n",
    "print(yield_glucose) #yield in g dryweight /mol glucose\n",
    "\n",
    "#remove the minimal amount which is needed for biomass accumulation\n",
    "#remove fractioon of glucose needed to make biomass (estimated via carbon requirement)\n",
    "#start with fraction of carbon in dry mass 0.47 g C/g cells -> 0.47/12=0.039 mol carb /g cells (12g/mol carb) -> 0.039/6=0.0065 mol glu/g cells (6 c per glucose) --> 25.6 g cells/mol glu\n",
    "print('yield corrected for biomass')\n",
    "yield_glucose_biomasscorrected=yield_glucose-25.6\n",
    "print(yield_glucose_biomasscorrected)\n",
    "print(\"Calculate ATP yield (g/mol ATP)\")\n",
    "#print(yield_glucose_biomasscorrected/ATPperGlu)\n",
    "\n",
    "####\n",
    "#compare with theoretical estimation of yield\n",
    "####\n",
    "#Stouthamer 1973 calculate as max yield: 28.5 g/mol ATP or 35 mmol ATP/g \n",
    "#other authors calculate lower yield. E.g. 14.7 g/mol ATP or 68 mmol ATP/g. Feist et al. 2007\n",
    "#check also Niedhardt et al. 1990\n",
    "#some difference in treating the metabolic costs of NAD(H), NADP(H), and FAD(H2).\n",
    "\n",
    "print('theoretical yield estimated for E. coli in g/mol ATP')\n",
    "print(\"between 15 and 28 depending on authors\")\n",
    "\n",
    "####\n",
    "#compare with experimental values from E. coli\n",
    "####\n",
    "#see also very useful notes from Ron Milo's group https://openwetware.org/wiki/Ecoli_ATP_requirement\n",
    "#experimenta yield\n",
    "print('experimental yield estimated for E. coli in g/mol ATP')\n",
    "print(10)\n",
    "#experimentally estimated for E. coli as YATP_max (no maintaneance energy) for growth in anaerobic conditions\n",
    "#approx 10.3 grams of cells per mole of ATP (Hempfling and Mainzer 1975). Other reported values vary a bit, e.g. ~8g/mol ATP\n",
    "\n",
    "\n",
    "#####\n",
    "#use difference in ethnalpies\n",
    "#####\n",
    "\n",
    "#start with glucose: yield_glucose in g cells per mol glucose\n",
    "H_glu=0.6787763*1000# kcal/mol\n",
    "\n",
    "energy_consumed=H_glu/yield_glucose_biomasscorrected\n",
    "print(\"energy consumbed by different strains\")\n",
    "print(energy_consumed)\n",
    "#excretionBg fermentation products released (in mmol/g)\n",
    "#enthalpie in kcal per mmol\n",
    "energy_released=np.sum(excretionBg*H),np.sum(excretionEg*H) #energy released in kcal per g\n",
    "print(\"energy released by different strains\")\n",
    "print(energy_released)\n",
    "print(\"net energy needed for growth\")\n"
   ]
  },
  {
   "cell_type": "code",
   "execution_count": null,
   "id": "7c672720-968c-441d-971c-86804585c727",
   "metadata": {},
   "outputs": [],
   "source": []
  }
 ],
 "metadata": {
  "kernelspec": {
   "display_name": "Python 3 (ipykernel)",
   "language": "python",
   "name": "python3"
  },
  "language_info": {
   "codemirror_mode": {
    "name": "ipython",
    "version": 3
   },
   "file_extension": ".py",
   "mimetype": "text/x-python",
   "name": "python",
   "nbconvert_exporter": "python",
   "pygments_lexer": "ipython3",
   "version": "3.11.0"
  }
 },
 "nbformat": 4,
 "nbformat_minor": 5
}
