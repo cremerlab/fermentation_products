{
 "cells": [
  {
   "cell_type": "markdown",
   "metadata": {
    "tags": []
   },
   "source": [
    "# Estimation of Daily Fermentation Product Release - Analysis for British Reference Diet (Figure 2)"
   ]
  },
  {
   "cell_type": "markdown",
   "metadata": {},
   "source": [
    "# Make sure to run Figure3 script first when running script"
   ]
  },
  {
   "cell_type": "code",
   "execution_count": 1,
   "metadata": {},
   "outputs": [
    {
     "name": "stdout",
     "output_type": "stream",
     "text": [
      "117.72413793103448\n",
      "{'energy': 2275.0, 'carbohydrates': 276.75, 'sugars': 59.0, 'proteins': 72.05000000000001, 'fat': 105.5, 'fiber': 19.9, 'fiber_low': 14.599999999999998, 'fiber_high': 25.2, 'carbLI': 44.6025, 'carbLI_low': 31.264999999999997, 'carbLI_high': 57.410000000000004, 'carbLI_error': 13.072500000000003, 'bacwetweight': 117.72413793103448, 'fecaldrymass': 29.58620689655172, 'fecaldrymassstd': 6.845624030794191, 'fecealfractionbac': 0.546888888888889, 'fecealfractionbacstd': 0.05063458414079364, 'bacterialdrymass_feces': 16.180367816091955, 'bacterialdrymass_feces_error': 4.014685909630688, 'energybacteria_fromfeces': 101.11785577697411, 'FP_fromfeces': 471.0230005849163, 'FP_fromfeces_g': [10.904335695602317, 2.153651111637971, 5.520037668578593, 6.865692286187041, 2.47897326682256, 4.179730053279632], 'FP_fromfeces_gsum': 32.10242008210811, 'energyfrac_fromfeces': 0.04444740913273587, 'energybacteria_fromfeces_error': 25.20015915064229, 'energyfrac_fromfeces_error': 0.011076993033249358, 'FP_fromfeces_error': 117.38633584688701, 'energy_fromcarbs': 132.6770146867717, 'FP_fromcarbs': 618.0305652866002, 'FP_fromcarbs_g': [14.307608642591124, 2.825811504539835, 7.242856498469267, 9.008493596802731, 3.2526675927124113, 5.484235216467104], 'FP_fromcarbs_gsum': 42.121673051582476, 'ferm_fromcarbs_cc': 1379.6490277186267, 'drymass_fromcarbs': 21.230304795108673, 'energyfrac_fromcarbs': 0.05831956689528427, 'FP_fromcarbs_error': 181.13793093905238, 'FP_fromcarbs_gsum_error': 12.345397028570419, 'drymass_fromcarbs_error': 6.222367791806698, 'energy_fromcarbs_error': 38.88616724382767, 'energyfrac_fromcarbs_error': 0.017092820766517657, 'FP_infeces': 9.041213793103447, 'FP_infeces_error': 9.41793103448276, 'fecalwetmass': 117.72413793103448, 'FPlist_fromcarbs': [238.25365753998406, 32.07140511337913, 157.35078206537622, 100.0054795382186, 43.90809261345876, 46.44114841618345]}\n"
     ]
    }
   ],
   "source": [
    "#load required functions\n",
    "import numpy as np\n",
    "import pandas as pd\n",
    "import matplotlib.pyplot as plt\n",
    "import matplotlib\n",
    "matplotlib.rcParams['pdf.fonttype'] = 42\n",
    "matplotlib.rcParams['ps.fonttype'] = 42\n",
    "from matplotlib.ticker import PercentFormatter\n",
    "import scipy\n",
    "\n",
    "import json\n",
    "import os\n",
    "\n",
    "capsize=6\n",
    "#set colorscheme\n",
    "colorav='k'\n",
    "colorrefdiet='purple'\n",
    "colorlistferm=['#1b9e77','#d95f02','#7570b3','#e7298a','#66a61e']\n",
    "\n",
    "labelenergybac=\"energy supply via bacteria (kcal)\"\n",
    "labelenergybacfrac=\"enery supply via bacteria (%)\"\n",
    "labelenergybacfracnounit=\"energy supply via bacteria\"\n",
    "\n",
    "results_for_figure2={}\n",
    "import FPcalc #basic calculations of \n",
    "\n",
    "#dict to save major characteristics of British reference diet\n",
    "#load file if already exists, otherwise start with empty dict\n",
    "try:\n",
    "    with open('data_analysisresults/BRD_characteristics.json', 'r') as fp:\n",
    "        BRD = json.load(fp)\n",
    "except:\n",
    "    BRD={}\n",
    "\n",
    "\n",
    "print(BRD[\"fecalwetmass\"])\n",
    "print(BRD)"
   ]
  },
  {
   "cell_type": "markdown",
   "metadata": {},
   "source": [
    "# Calculation fermentation products / energy contribution for British diet (via feces)\n"
   ]
  },
  {
   "cell_type": "code",
   "execution_count": 3,
   "metadata": {},
   "outputs": [
    {
     "name": "stdout",
     "output_type": "stream",
     "text": [
      "av and std bacterial dry mass (std derived taking variation of fecal dry weight and fraction of bacteria into account)\n",
      "{'energy': 2275.0, 'carbohydrates': 276.75, 'sugars': 59.0, 'proteins': 72.05000000000001, 'fat': 105.5, 'fiber': 19.9, 'fiber_low': 14.599999999999998, 'fiber_high': 25.2, 'carbLI': 44.6025, 'carbLI_low': 31.264999999999997, 'carbLI_high': 57.410000000000004, 'carbLI_error': 13.072500000000003, 'bacwetweight': 117.72413793103448, 'fecaldrymass': 29.58620689655172, 'fecaldrymassstd': 6.845624030794191, 'fecealfractionbac': 0.546888888888889, 'fecealfractionbacstd': 0.05063458414079364, 'bacterialdrymass_feces': 16.180367816091955, 'bacterialdrymass_feces_error': 4.014685909630688, 'energybacteria_fromfeces': 101.11785577697411, 'FP_fromfeces': 471.0230005849163, 'FP_fromfeces_g': [10.904335695602317, 2.153651111637971, 5.520037668578593, 6.865692286187041, 2.47897326682256, 4.179730053279632], 'FP_fromfeces_gsum': 32.10242008210811, 'energyfrac_fromfeces': 0.04444740913273587, 'energybacteria_fromfeces_error': 25.20015915064229, 'energyfrac_fromfeces_error': 0.011076993033249358, 'FP_fromfeces_error': 117.38633584688701, 'energy_fromcarbs': 132.6770146867717, 'FP_fromcarbs': 618.0305652866002, 'FP_fromcarbs_g': [14.307608642591124, 2.825811504539835, 7.242856498469267, 9.008493596802731, 3.2526675927124113, 5.484235216467104], 'FP_fromcarbs_gsum': 42.121673051582476, 'ferm_fromcarbs_cc': 1379.6490277186267, 'drymass_fromcarbs': 21.230304795108673, 'energyfrac_fromcarbs': 0.05831956689528427, 'FP_fromcarbs_error': 181.13793093905238, 'FP_fromcarbs_gsum_error': 12.345397028570419, 'drymass_fromcarbs_error': 6.222367791806698, 'energy_fromcarbs_error': 38.88616724382767, 'energyfrac_fromcarbs_error': 0.017092820766517657, 'FP_infeces': 9.041213793103447, 'FP_infeces_error': 9.41793103448276, 'fecalwetmass': 117.72413793103448, 'FPlist_fromcarbs': [238.25365753998406, 32.07140511337913, 157.35078206537622, 100.0054795382186, 43.90809261345876, 46.44114841618345]}\n",
      "101.11785577697411\n",
      "2275.0\n",
      "0.04444740913273587\n"
     ]
    }
   ],
   "source": [
    "#start with calculating bacterial dry mass\n",
    "print(\"av and std bacterial dry mass (std derived taking variation of fecal dry weight and fraction of bacteria into account)\")\n",
    "\n",
    "\n",
    "BRD[\"bacterialdrymass_feces\"]=BRD[\"fecaldrymass\"]*BRD[\"fecealfractionbac\"]\n",
    "\n",
    "\n",
    "#calculate energy fraction\n",
    "BRD[\"energybacteria_fromfeces\"],ferc,BRD[\"FP_fromfeces\"],BRD[\"FP_fromfeces_g\"],BRD[\"FP_fromfeces_gsum\"],totalcarb,orderc,BRD[\"bacterialdrymass_feces\"]=FPcalc.energycalc(BRD[\"bacterialdrymass_feces\"],scenario='reference',calctype='from_feces')\n",
    "BRD[\"energyfrac_fromfeces\"]=BRD[\"energybacteria_fromfeces\"]/BRD[\"energy\"]\n",
    "\n",
    "#totenergy,totfermlist,totfermlist_sum,totfermlist_gram,totfermlist_gram_sum,totfem_carb,order,bacdrymass #returns energy of fermentation products (in kcal) and \n",
    "print(BRD)\n",
    "\n",
    "print(BRD[\"energybacteria_fromfeces\"])\n",
    "print(BRD[\"energy\"])\n",
    "print(BRD[\"energyfrac_fromfeces\"])\n",
    "\n",
    "#####\n",
    "#calculate relative errors\n",
    "#####\n",
    "\n",
    "#relative error accumulates\n",
    "relerror=np.sqrt(np.power(BRD[\"fecaldrymassstd\"]/BRD[\"fecaldrymass\"],2)+np.power(BRD[\"fecealfractionbacstd\"]/BRD[\"fecealfractionbac\"],2)) #takes fecal mass variation and fraction bac dry mass into account\n",
    "\n",
    "BRD[\"energybacteria_fromfeces_error\"]=relerror*BRD[\"energybacteria_fromfeces\"]\n",
    "BRD[\"energyfrac_fromfeces_error\"]=relerror*BRD[\"energyfrac_fromfeces\"]\n",
    "BRD[\"FP_fromfeces_error\"]=relerror*BRD[\"FP_fromfeces\"]\n",
    "\n"
   ]
  },
  {
   "cell_type": "markdown",
   "metadata": {},
   "source": [
    "# Calculation energy contribution of bacteira for British ref diet (via carb content)"
   ]
  },
  {
   "cell_type": "code",
   "execution_count": 30,
   "metadata": {},
   "outputs": [],
   "source": [
    "#todo: check if energy calculations, why are the numbers so different for the different ways to estimate?"
   ]
  },
  {
   "cell_type": "code",
   "execution_count": 4,
   "metadata": {},
   "outputs": [],
   "source": [
    "BRD[\"energy_fromcarbs\"],BRD[\"FPlist_fromcarbs\"],BRD[\"FP_fromcarbs\"],BRD[\"FP_fromcarbs_g\"],BRD[\"FP_fromcarbs_gsum\"],BRD[\"ferm_fromcarbs_cc\"],order,BRD[\"drymass_fromcarbs\"]=FPcalc.energycalc(BRD[\"carbLI\"],scenario='reference',calctype='from_carbs')\n",
    "BRD[\"energyfrac_fromcarbs\"]=BRD[\"energy_fromcarbs\"]/BRD[\"energy\"]\n",
    "#return totenergy,totfermlist,totfermlist_sum,totfermlist_gram,totfermlist_gram_sum,totfem_carb,order,bacdrymass #returns energy of fermentation products (in kcal) and amount of fermentation products (in mmol)\n",
    "\n",
    "#errors from variation in carbon\n",
    "relerror=BRD[\"carbLI_error\"]/BRD[\"carbLI\"]\n",
    "BRD[\"FP_fromcarbs_error\"]=relerror*BRD[\"FP_fromcarbs\"]\n",
    "BRD[\"FP_fromcarbs_gsum_error\"]=relerror*BRD[\"FP_fromcarbs_gsum\"]\n",
    "BRD[\"drymass_fromcarbs_error\"]=relerror*BRD[\"drymass_fromcarbs\"]\n",
    "BRD[\"energy_fromcarbs_error\"]=relerror*BRD[\"energy_fromcarbs\"]\n",
    "BRD[\"energyfrac_fromcarbs_error\"]=relerror*BRD[\"energyfrac_fromcarbs\"]\n"
   ]
  },
  {
   "cell_type": "markdown",
   "metadata": {},
   "source": [
    "# Look into carbon balance (for via carbohydrate estimation)\n",
    "\n",
    "## look at the numbers together with Markus. Double check: ASSUMED CARBON NUMBERS, DOUBLE CHECK CARBS PER CELL"
   ]
  },
  {
   "cell_type": "code",
   "execution_count": 6,
   "metadata": {},
   "outputs": [
    {
     "name": "stdout",
     "output_type": "stream",
     "text": [
      "********used av. yield and excretion*******\n",
      "carbon total secretion mmolC/g\n",
      "62.916710240208815\n",
      "carbon uptake mmolC/g\n",
      "69.9713022308811\n",
      "********carbon input*******\n",
      "carbon in LI in g\n",
      "44.6025\n",
      "carbon in LI in mmol\n",
      "247.79166666666666\n",
      "carbon in LI in mmol carbon units\n",
      "1486.75\n",
      "********carbon in excreted fermentation products *******\n",
      "order FP list\n",
      "['acetate', 'butyrate', 'formate', 'lactate', 'propionate', 'succinate']\n",
      "used carbon per FP\n",
      "[2 4 1 3 2 4]\n",
      "daily secretion in mmol FP/day\n",
      "[238.25365754  32.07140511 157.35078207 100.00547954  43.90809261\n",
      "  46.44114842]\n",
      "daily secretion in mmol C/day\n",
      "[476.50731508 128.28562045 157.35078207 300.01643861  87.81618523\n",
      " 185.76459366]\n",
      "total daily secretion mmol C/ day\n",
      "1335.7409351051679\n",
      "********carbon in bacteria*******\n",
      "bacterial drymass in g\n",
      "21.230304795108673\n",
      "bacterial drymass - carb atoms in g, assuming 0.5 dryweight is carb\n",
      "DOUBLECHECK 0.5 factor correct?\n",
      "10.615152397554336\n",
      "bacterial drymass - carb atoms in mmol\n",
      "884.596033129528\n"
     ]
    }
   ],
   "source": [
    "print(\"********used av. yield and excretion*******\")\n",
    "\n",
    "with open(os.path.join(\"data_analysisresults/average_excretion/av_YCA.json\")) as f:\n",
    "        yielddict = json.load(f)\n",
    "print(\"carbon total secretion mmolC/g\")\n",
    "print(yielddict[\"total_secretion_carbon\"])\n",
    "print(\"carbon uptake mmolC/g\")\n",
    "print(yielddict[\"uptake_carbon\"])\n",
    "\n",
    "\n",
    "print(\"********carbon input*******\")\n",
    "print(\"carbon in LI in g\")\n",
    "print(BRD[\"carbLI\"])\n",
    "print(\"carbon in LI in mmol\")\n",
    "print(BRD[\"carbLI\"]/0.180 )\n",
    "print(\"carbon in LI in mmol carbon units\")\n",
    "print(BRD[\"carbLI\"]*6/0.180)\n",
    "\n",
    "\n",
    "print(\"********carbon in excreted fermentation products *******\")\n",
    "print(\"order FP list\")\n",
    "print(order)\n",
    "print(\"used carbon per FP\")\n",
    "cfactorlist=np.array([2,4,1,3,2,4])\n",
    "print(cfactorlist)\n",
    "\n",
    "print(\"daily secretion in mmol FP/day\")\n",
    "print(np.array(BRD[\"FPlist_fromcarbs\"]))\n",
    "print(\"daily secretion in mmol C/day\")\n",
    "print(np.array(BRD[\"FPlist_fromcarbs\"])*cfactorlist)\n",
    "print(\"total daily secretion mmol C/ day\")\n",
    "print(np.sum(np.array(BRD[\"FPlist_fromcarbs\"])*cfactorlist))\n",
    "\n",
    "print(\"********carbon in bacteria*******\")\n",
    "print(\"bacterial drymass in g\")\n",
    "print(BRD[\"drymass_fromcarbs\"])\n",
    "print(\"bacterial drymass - carb atoms in g, assuming 0.5 dryweight is carb\")\n",
    "print(\"DOUBLECHECK 0.5 factor correct?\")\n",
    "print(BRD[\"drymass_fromcarbs\"]*0.5)\n",
    "print(\"bacterial drymass - carb atoms in mmol\")\n",
    "print(BRD[\"drymass_fromcarbs\"]*0.5/0.012) #assumes 12g/mol or 0.012g/mmol\n"
   ]
  },
  {
   "cell_type": "markdown",
   "metadata": {},
   "source": [
    "# same carbon analysis but for different media"
   ]
  },
  {
   "cell_type": "code",
   "execution_count": 7,
   "metadata": {},
   "outputs": [
    {
     "name": "stdout",
     "output_type": "stream",
     "text": [
      "************************\n",
      "*********MEDIA: YCA\n",
      "********used av. yield and excretion*******\n",
      "carbon total secretion mmolC/g\n",
      "62.916710240208815\n",
      "carbon uptake mmolC/g\n",
      "69.9713022308811\n",
      "********carbon input*******\n",
      "carbon in LI in mmol carbon units\n",
      "1486.75\n",
      "********carbon in excreted fermentation products *******\n",
      "total daily secretion mmol C/ day\n",
      "1335.7409351051679\n",
      "********carbon in bacteria*******\n",
      "bacterial drymass - carb atoms in mmol\n",
      "884.596033129528\n",
      "************************\n",
      "*********MEDIA: epsilon\n",
      "********used av. yield and excretion*******\n",
      "carbon total secretion mmolC/g\n",
      "72.83729866435785\n",
      "carbon uptake mmolC/g\n",
      "79.35858319240998\n",
      "********carbon input*******\n",
      "carbon in LI in mmol carbon units\n",
      "1486.75\n",
      "********carbon in excreted fermentation products *******\n",
      "total daily secretion mmol C/ day\n",
      "1363.4402505410467\n",
      "********carbon in bacteria*******\n",
      "bacterial drymass - carb atoms in mmol\n",
      "779.9576793889208\n",
      "************************\n",
      "*********MEDIA: gamma\n",
      "********used av. yield and excretion*******\n",
      "carbon total secretion mmolC/g\n",
      "62.0656911731357\n",
      "carbon uptake mmolC/g\n",
      "89.64200194042246\n",
      "********carbon input*******\n",
      "carbon in LI in mmol carbon units\n",
      "1486.75\n",
      "********carbon in excreted fermentation products *******\n",
      "total daily secretion mmol C/ day\n",
      "1028.528274446153\n",
      "********carbon in bacteria*******\n",
      "bacterial drymass - carb atoms in mmol\n",
      "690.4836465776614\n",
      "************************\n",
      "*********MEDIA: BHI\n",
      "********used av. yield and excretion*******\n",
      "carbon total secretion mmolC/g\n",
      "71.77180512724799\n",
      "carbon uptake mmolC/g\n",
      "44.72485366237465\n",
      "********carbon input*******\n",
      "carbon in LI in mmol carbon units\n",
      "1486.75\n",
      "********carbon in excreted fermentation products *******\n",
      "total daily secretion mmol C/ day\n",
      "2383.86208799975\n",
      "********carbon in bacteria*******\n",
      "bacterial drymass - carb atoms in mmol\n",
      "1383.936029251132\n"
     ]
    }
   ],
   "source": [
    "for media in [\"YCA\",\"epsilon\",\"gamma\",\"BHI\"]:\n",
    "    curengery,curFPlist,curFP,curFPg,curFPgsum,curFPcc,order,curdryweight=FPcalc.energycalc(BRD[\"carbLI\"],scenario='reference',calctype='from_carbs',dict_yielddata=\"average_excretion/av_\"+media+\".json\")\n",
    "\n",
    "    print(\"************************\")\n",
    "    print(\"*********MEDIA: \"+media)\n",
    "    print(\"********used av. yield and excretion*******\")\n",
    "\n",
    "    with open(os.path.join(\"data_analysisresults/average_excretion/av_\"+media+\".json\")) as f:\n",
    "            yielddict = json.load(f)\n",
    "    print(\"carbon total secretion mmolC/g\")\n",
    "    print(yielddict[\"total_secretion_carbon\"])\n",
    "    print(\"carbon uptake mmolC/g\")\n",
    "    print(yielddict[\"uptake_carbon\"])\n",
    "\n",
    "\n",
    "    print(\"********carbon input*******\")\n",
    "    #print(\"carbon in LI in g\")\n",
    "    #print(BRD[\"carbLI\"])\n",
    "    #print(\"carbon in LI in mmol\")\n",
    "    #print(BRD[\"carbLI\"]/0.180 )\n",
    "    print(\"carbon in LI in mmol carbon units\")\n",
    "    print(BRD[\"carbLI\"]*6/0.180)\n",
    "\n",
    "\n",
    "    print(\"********carbon in excreted fermentation products *******\")\n",
    "    #print(\"order FP list\")\n",
    "    #print(order)\n",
    "    #print(\"used carbon per FP\")\n",
    "    #cfactorlist=np.array([2,4,1,3,2,4])\n",
    "    #print(cfactorlist)\n",
    "\n",
    "    #print(\"daily secretion in mmol FP/day\")\n",
    "    #print(np.array(curFPlist))\n",
    "    #print(\"daily secretion in mmol C/day\")\n",
    "    #print(np.array(curFPlist)*cfactorlist)\n",
    "    print(\"total daily secretion mmol C/ day\")\n",
    "    print(np.sum(np.array(curFPlist)*cfactorlist))\n",
    "\n",
    "    print(\"********carbon in bacteria*******\")\n",
    "    #print(\"bacterial drymass in g\")\n",
    "    #print(curdryweight)\n",
    "    #print(\"bacterial drymass - carb atoms in g, assuming 0.5 dryweight is carb\")\n",
    "    #print(\"DOUBLECHECK 0.5 factor correct?\")\n",
    "    #print(curdryweight*0.5)\n",
    "    print(\"bacterial drymass - carb atoms in mmol\")\n",
    "    print(curdryweight*0.5/0.012) #assumes 12g/mol or 0.012g/mmol\n"
   ]
  },
  {
   "cell_type": "markdown",
   "metadata": {},
   "source": [
    "# SIMPLE comparion plot"
   ]
  },
  {
   "cell_type": "code",
   "execution_count": 8,
   "metadata": {},
   "outputs": [
    {
     "name": "stdout",
     "output_type": "stream",
     "text": [
      "0.04444740913273587\n"
     ]
    },
    {
     "data": {
      "image/png": "[encoded data removed]",
      "text/plain": [
       "<Figure size 230x350 with 1 Axes>"
      ]
     },
     "metadata": {},
     "output_type": "display_data"
    },
    {
     "data": {
      "image/png": "[encoded data removed]",
      "text/plain": [
       "<Figure size 230x350 with 1 Axes>"
      ]
     },
     "metadata": {},
     "output_type": "display_data"
    }
   ],
   "source": [
    "#compare different estimations (from fecal weight, and from carbs reaching LI\n",
    "\n",
    "#\n",
    "#plot energy fraction for both types of measurements\n",
    "fig, axs = plt.subplots(1,1, figsize=(2.3,3.5))\n",
    "axs=[axs]\n",
    "\n",
    "print(BRD[\"energyfrac_fromfeces\"])\n",
    "axs[0].bar([1,2],[BRD[\"energyfrac_fromfeces\"]*100,BRD[\"energyfrac_fromcarbs\"]*100],yerr=[100*BRD[\"energyfrac_fromfeces_error\"],100*BRD[\"energyfrac_fromcarbs_error\"]],color=[colorrefdiet,colorrefdiet],capsize=capsize)\n",
    "#\n",
    "#    databox,labels=[\"bacteria\"],vert=True,showfliers=True, widths=[0.7]*1,patch_artist=True,)#,\"Mice (autoclaved lab coy)\"])\n",
    "\n",
    "axs[0].set_ylabel(labelenergybacfrac)\n",
    "axs[0].set_xticks([1,2])\n",
    "axs[0].set_xticklabels([\"via fecal mass\",\"via carbs\"],rotation=90)\n",
    "#axs[0].set_ylim(0,280)\n",
    "\n",
    "fig.tight_layout()\n",
    "fig.savefig(\"plot_output/BRITISH_carbLI.pdf\")\n",
    "\n",
    "\n",
    "#plot energy fraction for both types of measurements\n",
    "fig, axs = plt.subplots(1,1, figsize=(2.3,3.5))\n",
    "axs=[axs]\n",
    "\n",
    "axs[0].bar([1,2],[BRD[\"FP_fromfeces\"],BRD[\"FP_fromcarbs\"]],yerr=[BRD[\"FP_fromfeces_error\"],BRD[\"FP_fromcarbs_error\"]],color=[colorrefdiet,colorrefdiet],capsize=capsize)\n",
    "  \n",
    "#    databox,labels=[\"bacteria\"],vert=True,showfliers=True, widths=[0.7]*1,patch_artist=True,)#,\"Mice (autoclaved lab coy)\"])\n",
    "\n",
    "axs[0].set_ylabel(\"fermentation products (mmol/day)\")\n",
    "axs[0].set_xticks([1,2])\n",
    "axs[0].set_xticklabels([\"via fecal mass\",\"via carbs\"],rotation=90)\n",
    "#axs[0].set_ylim(0,280)\n",
    "\n",
    "fig.tight_layout()\n",
    "fig.savefig(\"plot_output/BRITISH_carbLI_ferm2.pdf\")\n",
    "\n",
    "\n",
    "\n",
    "\n",
    "\n",
    "\n"
   ]
  },
  {
   "cell_type": "markdown",
   "metadata": {},
   "source": [
    "\n",
    "## Fig. S2: Add figure how \"carbs available for microbiota\" changes with fiber digestion fraction and starch absorbance\n",
    "--> Standard: 0.5 fiber digestion, 0.1 starch passage #Englyst. Fiber unclear, but we show that it does not matter much for British ref diet\n",
    "e.g. panel: vary fiber digestion fraction on x-axis (show different lines for starch passage (0.05,0.1,0.15)\n",
    "possible: add other panel showing how total FPs change with fiber digestion fraction\n",
    "\n"
   ]
  },
  {
   "cell_type": "code",
   "execution_count": null,
   "metadata": {},
   "outputs": [],
   "source": []
  },
  {
   "cell_type": "markdown",
   "metadata": {},
   "source": [
    "# Plots total amount of fermentation products reaching large intestine\n",
    "\n",
    "For Fig. S\n",
    "add as a side point how little of those fermentation products are recovered in feces\n"
   ]
  },
  {
   "cell_type": "markdown",
   "metadata": {},
   "source": [
    "# main results British reference diet in one plot"
   ]
  },
  {
   "cell_type": "code",
   "execution_count": 9,
   "metadata": {},
   "outputs": [
    {
     "data": {
      "image/png": "[encoded data removed]",
      "text/plain": [
       "<Figure size 400x300 with 6 Axes>"
      ]
     },
     "metadata": {},
     "output_type": "display_data"
    }
   ],
   "source": [
    "fig, axs = plt.subplots(3,2, figsize=(4,3))\n",
    "\n",
    "\n",
    "####from carb calculation\n",
    "\n",
    "#carbs\n",
    "axs[0,1].barh(1,BRD[\"carbLI\"],height=0.7,xerr=BRD[\"carbLI_error\"],color=[colorrefdiet,colorrefdiet],capsize=capsize)\n",
    "axs[0,1].set_xlabel(\"microbiota digestible\\n carbs (g/day)\")\n",
    "#bacterial dry mass\n",
    "axs[1,1].barh(1,BRD[\"drymass_fromcarbs\"],height=0.7,xerr=BRD[\"drymass_fromcarbs_error\"],color=[colorrefdiet,colorrefdiet],capsize=capsize)\n",
    "axs[1,1].set_xlabel(\"bacterial dry \\n weight (g/day)\")\n",
    "#femrentation products\n",
    "axs[2,1].barh(1,BRD[\"FP_fromcarbs\"],height=0.7,xerr=BRD[\"FP_fromcarbs_error\"],color=[colorrefdiet,colorrefdiet],capsize=capsize)\n",
    "axs[2,1].set_xlabel(\"fermentation \\n products (mmol/day\")\n",
    "\n",
    "#colors=[colorrefdiet]*2\n",
    "#for patch, color in zip(bplot1['boxes'], colors):\n",
    "#        patch.set_facecolor(color)\n",
    "#axs[0].set_xlabel('bacterial dry mass (g/day)')\n",
    "#axs[0].set_xlim(0,30)\n",
    "\n",
    "####from feces calculation\n",
    "\n",
    "#########\n",
    "#feces\n",
    "#########\n",
    "axs[0,0].barh(1,BRD[\"carbLI\"],height=0.7,xerr=BRD[\"carbLI_error\"],color=[colorrefdiet,colorrefdiet],capsize=capsize)\n",
    "axs[0,0].set_xlabel(\"fecal dry weight (g/day)\")\n",
    "#bacterial dry mass\n",
    "axs[1,0].barh(1,BRD[\"bacterialdrymass_feces\"],height=0.7,xerr=BRD[\"bacterialdrymass_feces_error\"],color=[colorrefdiet,colorrefdiet],capsize=capsize)\n",
    "axs[1,0].set_xlabel(\"bacterial dry \\n weight (g/day)\")\n",
    "#femrentation products\n",
    "axs[2,0].barh(1,BRD[\"FP_fromfeces\"],height=0.7,xerr=BRD[\"FP_fromfeces_error\"],color=[colorrefdiet,colorrefdiet],capsize=capsize)\n",
    "axs[2,0].set_xlabel(\"fermentation \\n products (mmol/day\")\n",
    "\n",
    "axs[0,0].set_xlim(0,50)\n",
    "axs[0,1].set_xlim(0,60)\n",
    "axs[1,0].set_xlim(0,35)\n",
    "axs[1,1].set_xlim(0,35)\n",
    "axs[2,0].set_xlim(0,1100)\n",
    "axs[2,1].set_xlim(0,1100)\n",
    "\n",
    "\n",
    "axs[0,0].set_yticks([])\n",
    "axs[1,0].set_yticks([])\n",
    "axs[2,0].set_yticks([])\n",
    "axs[0,1].set_yticks([])\n",
    "axs[1,1].set_yticks([])\n",
    "axs[2,1].set_yticks([])\n",
    "\n",
    "axs[1,0].set_xticks([0,10,20,30])\n",
    "axs[1,1].set_xticks([0,10,20,30])\n",
    "\n",
    "ym=0.5\n",
    "ymax=1.5\n",
    "axs[0,0].set_ylim(ym,ymax)\n",
    "axs[1,0].set_ylim(ym,ymax)\n",
    "axs[2,0].set_ylim(ym,ymax)\n",
    "axs[0,1].set_ylim(ym,ymax)\n",
    "axs[1,1].set_ylim(ym,ymax)\n",
    "axs[2,1].set_ylim(ym,ymax)\n",
    "\n",
    "axs[0,0].spines[['right', 'top']].set_visible(False)\n",
    "axs[1,0].spines[['right', 'top']].set_visible(False)\n",
    "axs[2,0].spines[['right', 'top']].set_visible(False)\n",
    "axs[0,1].spines[['right', 'top']].set_visible(False)\n",
    "axs[1,1].spines[['right', 'top']].set_visible(False)\n",
    "axs[2,1].spines[['right', 'top']].set_visible(False)\n",
    "\n",
    "\n",
    "fig.tight_layout()\n",
    "fig.savefig(\"plot_output_figure2/BRITISH_mainnumbers.pdf\")\n",
    "\n"
   ]
  },
  {
   "cell_type": "markdown",
   "metadata": {},
   "source": [
    "# Fermentation products in feces"
   ]
  },
  {
   "cell_type": "code",
   "execution_count": 10,
   "metadata": {},
   "outputs": [
    {
     "name": "stdout",
     "output_type": "stream",
     "text": [
      "{'energy': 2275.0, 'carbohydrates': 276.75, 'sugars': 59.0, 'proteins': 72.05000000000001, 'fat': 105.5, 'fiber': 19.9, 'fiber_low': 14.599999999999998, 'fiber_high': 25.2, 'carbLI': 44.6025, 'carbLI_low': 31.264999999999997, 'carbLI_high': 57.410000000000004, 'carbLI_error': 13.072500000000003, 'bacwetweight': 117.72413793103448, 'fecaldrymass': 29.58620689655172, 'fecaldrymassstd': 6.845624030794191, 'fecealfractionbac': 0.546888888888889, 'fecealfractionbacstd': 0.05063458414079364, 'bacterialdrymass_feces': 16.180367816091955, 'bacterialdrymass_feces_error': 4.014685909630688, 'energybacteria_fromfeces': 101.11785577697411, 'FP_fromfeces': 471.0230005849163, 'FP_fromfeces_g': [10.904335695602317, 2.153651111637971, 5.520037668578593, 6.865692286187041, 2.47897326682256, 4.179730053279632], 'FP_fromfeces_gsum': 32.10242008210811, 'energyfrac_fromfeces': 0.04444740913273587, 'energybacteria_fromfeces_error': 25.20015915064229, 'energyfrac_fromfeces_error': 0.011076993033249358, 'FP_fromfeces_error': 117.38633584688701, 'energy_fromcarbs': 132.6770146867717, 'FP_fromcarbs': 618.0305652866002, 'FP_fromcarbs_g': [14.307608642591124, 2.825811504539835, 7.242856498469267, 9.008493596802731, 3.2526675927124113, 5.484235216467104], 'FP_fromcarbs_gsum': 42.121673051582476, 'ferm_fromcarbs_cc': 1379.6490277186267, 'drymass_fromcarbs': 21.230304795108673, 'energyfrac_fromcarbs': 0.05831956689528427, 'FP_fromcarbs_error': 181.13793093905238, 'FP_fromcarbs_gsum_error': 12.345397028570419, 'drymass_fromcarbs_error': 6.222367791806698, 'energy_fromcarbs_error': 38.88616724382767, 'energyfrac_fromcarbs_error': 0.017092820766517657, 'FP_infeces': 9.041213793103447, 'FP_infeces_error': 9.41793103448276, 'fecalwetmass': 117.72413793103448, 'FPlist_fromcarbs': [238.25365753998406, 32.07140511337913, 157.35078206537622, 100.0054795382186, 43.90809261345876, 46.44114841618345]}\n",
      "dict_items([('glucose', -10.612578579775516), ('acetate', 11.222338060585743), ('propionate', 2.0681800396749326), ('succinate', 2.187493249125806), ('lactate', 4.7105060668398515), ('butyrate', 1.510642707342015), ('formate', 7.411612013296617), ('maltose', -0.5246525626856666), ('uptake', 11.661883705146849), ('uptake_carbon', 69.9713022308811), ('total_secretion', 29.110772136864966), ('total_secretion_carbon', 62.916710240208815)])\n",
      "total secretion feces mmol/day:\n",
      "9.041213793103447\n",
      "different fp products (ace,but,for,lac,suc,prop, mmol/day):\n",
      "[2.9204985150480818, 0.3931292890788478, 1.9287960995371682, 1.2258609479647709, 0.5692727087047111, 0.5382226682277884]\n",
      "7.575780228561369\n",
      "C in different products mmol/day\n",
      "16.373429301117458\n"
     ]
    },
    {
     "data": {
      "image/png": "[encoded data removed]",
      "text/plain": [
       "<Figure size 230x350 with 1 Axes>"
      ]
     },
     "metadata": {},
     "output_type": "display_data"
    }
   ],
   "source": [
    "#how much mmol of fermentation products in feces\n",
    "#typical value is 80mmol/l (or 76.8 mmol/l as reported in the following)\n",
    "#https://pubmed.ncbi.nlm.nih.gov/6740214/\n",
    "print(BRD)\n",
    "\n",
    "BRD[\"FP_infeces\"]=BRD[\"fecalwetmass\"]*76.8/1000.\n",
    "ferminfeces_upper=BRD[\"fecalwetmass\"]*190/1000.\n",
    "ferminfeces_lower=BRD[\"fecalwetmass\"]*30/1000.\n",
    "BRD[\"FP_infeces_error\"]=(ferminfeces_upper-ferminfeces_lower)/2.\n",
    "ferminfeces_g=BRD[\"FP_infeces\"]*0.08 #assume roughly average\n",
    "\n",
    "\n",
    "with open(os.path.join(\"data_analysisresults/average_excretion/av_YCA.json\")) as f:\n",
    "        yielddict2 = json.load(f)\n",
    "print(yielddict2.items())\n",
    "\n",
    "### read in json file with secretion data\n",
    "fpinfeces_list=[]\n",
    "sum_fp=0\n",
    "sum_c=0\n",
    "subc=-1\n",
    "ccount=[2,4,1,3,4,2]\n",
    "for sub in [\"acetate\",\"butyrate\",\"formate\",\"lactate\",\"succinate\",\"propionate\"]:\n",
    "    subc=subc+1\n",
    "    fpinfeces_list.append(yielddict2[sub]*BRD[\"FP_infeces\"]/yielddict[\"total_secretion\"])\n",
    "    sum_fp=sum_fp+fpinfeces_list[-1]\n",
    "    sum_c=sum_c+fpinfeces_list[-1]*ccount[subc]\n",
    "print(\"total secretion feces mmol/day:\")\n",
    "print(BRD[\"FP_infeces\"])\n",
    "print(\"different fp products (ace,but,for,lac,suc,prop, mmol/day):\")\n",
    "print(fpinfeces_list)\n",
    "print(sum_fp)\n",
    "print(\"C in different products mmol/day\")\n",
    "print(sum_c)\n",
    "\n",
    "\n",
    "\n",
    "###calculate carbon content of FP in feces\n",
    "###assume same consumption as secreted by bacteria\n",
    "\n",
    "#plot energy fraction for both types of measurements\n",
    "fig, axs = plt.subplots(1,1, figsize=(2.3,3.5))\n",
    "axs=[axs]\n",
    "axs[0].bar([1,2,3],[BRD[\"FP_fromfeces\"],BRD[\"FP_fromcarbs\"],BRD[\"FP_infeces\"]],color=['k','k','brown'])\n",
    "        \n",
    "#    databox,labels=[\"bacteria\"],vert=True,showfliers=True, widths=[0.7]*1,patch_artist=True,)#,\"Mice (autoclaved lab coy)\"])\n",
    "axs[0].set_ylabel('ferment. products (mmol/day)')\n",
    "axs[0].set_xticks([1,2,3])\n",
    "axs[0].set_xticklabels([\"approx. via fecal mass\",\"approx. via carbs\",\"in feces\"],rotation=90)\n",
    "#axs[0].set_ylim(0,280)\n",
    "\n",
    "fig.tight_layout()\n",
    "fig.savefig(\"plot_output/BRITISH_ferm_includeinfeces.pdf\")\n"
   ]
  },
  {
   "cell_type": "markdown",
   "metadata": {},
   "source": [
    "# Save numbers to dict"
   ]
  },
  {
   "cell_type": "code",
   "execution_count": 11,
   "metadata": {},
   "outputs": [
    {
     "name": "stdout",
     "output_type": "stream",
     "text": [
      "{'energy': 2275.0, 'carbohydrates': 276.75, 'sugars': 59.0, 'proteins': 72.05000000000001, 'fat': 105.5, 'fiber': 19.9, 'fiber_low': 14.599999999999998, 'fiber_high': 25.2, 'carbLI': 44.6025, 'carbLI_low': 31.264999999999997, 'carbLI_high': 57.410000000000004, 'carbLI_error': 13.072500000000003, 'bacwetweight': 117.72413793103448, 'fecaldrymass': 29.58620689655172, 'fecaldrymassstd': 6.845624030794191, 'fecealfractionbac': 0.546888888888889, 'fecealfractionbacstd': 0.05063458414079364, 'bacterialdrymass_feces': 16.180367816091955, 'bacterialdrymass_feces_error': 4.014685909630688, 'energybacteria_fromfeces': 101.11785577697411, 'FP_fromfeces': 471.0230005849163, 'FP_fromfeces_g': [10.904335695602317, 2.153651111637971, 5.520037668578593, 6.865692286187041, 2.47897326682256, 4.179730053279632], 'FP_fromfeces_gsum': 32.10242008210811, 'energyfrac_fromfeces': 0.04444740913273587, 'energybacteria_fromfeces_error': 25.20015915064229, 'energyfrac_fromfeces_error': 0.011076993033249358, 'FP_fromfeces_error': 117.38633584688701, 'energy_fromcarbs': 132.6770146867717, 'FP_fromcarbs': 618.0305652866002, 'FP_fromcarbs_g': [14.307608642591124, 2.825811504539835, 7.242856498469267, 9.008493596802731, 3.2526675927124113, 5.484235216467104], 'FP_fromcarbs_gsum': 42.121673051582476, 'ferm_fromcarbs_cc': 1379.6490277186267, 'drymass_fromcarbs': 21.230304795108673, 'energyfrac_fromcarbs': 0.05831956689528427, 'FP_fromcarbs_error': 181.13793093905238, 'FP_fromcarbs_gsum_error': 12.345397028570419, 'drymass_fromcarbs_error': 6.222367791806698, 'energy_fromcarbs_error': 38.88616724382767, 'energyfrac_fromcarbs_error': 0.017092820766517657, 'FP_infeces': 9.041213793103447, 'FP_infeces_error': 9.41793103448276, 'fecalwetmass': 117.72413793103448, 'FPlist_fromcarbs': [238.25365753998406, 32.07140511337913, 157.35078206537622, 100.0054795382186, 43.90809261345876, 46.44114841618345]}\n"
     ]
    }
   ],
   "source": [
    "print(BRD)\n",
    "with open('data_analysisresults/BRD_characteristics.json', 'w') as fp:\n",
    "    json.dump(BRD, fp)"
   ]
  },
  {
   "cell_type": "code",
   "execution_count": null,
   "metadata": {},
   "outputs": [],
   "source": []
  },
  {
   "cell_type": "code",
   "execution_count": null,
   "metadata": {},
   "outputs": [],
   "source": []
  },
  {
   "cell_type": "code",
   "execution_count": null,
   "metadata": {},
   "outputs": [],
   "source": []
  },
  {
   "cell_type": "code",
   "execution_count": null,
   "metadata": {},
   "outputs": [],
   "source": []
  }
 ],
 "metadata": {
  "kernelspec": {
   "display_name": "Python 3 (ipykernel)",
   "language": "python",
   "name": "python3"
  },
  "language_info": {
   "codemirror_mode": {
    "name": "ipython",
    "version": 3
   },
   "file_extension": ".py",
   "mimetype": "text/x-python",
   "name": "python",
   "nbconvert_exporter": "python",
   "pygments_lexer": "ipython3",
   "version": "3.11.0"
  }
 },
 "nbformat": 4,
 "nbformat_minor": 4
}
