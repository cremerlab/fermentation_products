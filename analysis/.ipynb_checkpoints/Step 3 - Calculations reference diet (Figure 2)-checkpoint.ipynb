{
 "cells": [
  {
   "cell_type": "markdown",
   "metadata": {
    "tags": []
   },
   "source": [
    "# Estimation of Daily Fermentation Product Release - Analysis for British Reference Diet (Figure 2)"
   ]
  },
  {
   "cell_type": "markdown",
   "metadata": {},
   "source": [
    "# Make sure to run Figure3 script first when running script"
   ]
  },
  {
   "cell_type": "code",
   "execution_count": 42,
   "metadata": {},
   "outputs": [
    {
     "data": {
      "text/plain": [
       "{'energy': 2275.0,\n",
       " 'carbohydrates': 276.75,\n",
       " 'sugars': 59.0,\n",
       " 'proteins': 72.05000000000001,\n",
       " 'fat': 105.5,\n",
       " 'fiber': 19.9,\n",
       " 'fiber_low': 14.599999999999998,\n",
       " 'fiber_high': 25.2,\n",
       " 'carbLI_standard': 35.670500000000004,\n",
       " 'carbLI_higher': 44.6025,\n",
       " 'carbLI_lower': 25.755000000000003,\n",
       " 'carbLI_error': 9.423749999999998,\n",
       " 'bacwetweight': 117.72413793103448,\n",
       " 'fecalwetmass': 117.72413793103448,\n",
       " 'fecaldrymass': 29.58620689655172,\n",
       " 'fecaldrymassstd': 6.845624030794191,\n",
       " 'fecealfractionbac': 0.546888888888889,\n",
       " 'bacterialdrymass_feces': 16.180367816091955,\n",
       " 'energybacteria_fromfeces': 101.11785577697411,\n",
       " 'FP_fromfeces': 471.0230005849163,\n",
       " 'FP_fromfeces_g': [10.904335695602317,\n",
       "  2.153651111637971,\n",
       "  5.520037668578593,\n",
       "  6.865692286187041,\n",
       "  2.47897326682256,\n",
       "  4.179730053279632],\n",
       " 'FP_fromfeces_gsum': 32.10242008210811,\n",
       " 'energyfrac_fromfeces': 0.04444740913273587,\n",
       " 'energybacteria_fromfeces_error': 23.39653832171075,\n",
       " 'energyfrac_fromfeces_error': 0.010284192668883845,\n",
       " 'FP_fromfeces_error': 108.98478413049628,\n",
       " 'bacterialdrymass_feces_error': 3.743795719952113,\n",
       " 'energy_fromcarbs_standard': 106.10740322592885,\n",
       " 'FPlist_fromcarbs_standard': [190.54149635737915,\n",
       "  25.648855021507547,\n",
       "  125.84005541534675,\n",
       "  79.97859890965813,\n",
       "  35.115153131963034,\n",
       "  37.14094466856056],\n",
       " 'FP_fromcarbs_standard': 494.2651035044152,\n",
       " 'FP_fromcarbs_g_standard': [11.442397939253333,\n",
       "  2.2599206159450302,\n",
       "  5.7924177507684105,\n",
       "  7.204472189782004,\n",
       "  2.6012954288626893,\n",
       "  4.385974155910317],\n",
       " 'FP_fromcarbs_gsum_standard': 33.68647808052178,\n",
       " 'ferm_fromcarbs_cc_standard': 1103.363503015241,\n",
       " 'drymass_fromcarbs_standard': 16.978769961188814,\n",
       " 'energyfrac_fromcarbs_standard': 0.04664061680260609,\n",
       " 'energy_fromcarbs_lower': 76.61221934326116,\n",
       " 'FPlist_fromcarbs_lower': [137.57576256806885,\n",
       "  18.519119751024707,\n",
       "  90.85969154405616,\n",
       "  57.74656410530397,\n",
       "  25.35402556492642,\n",
       "  26.816698110168822],\n",
       " 'FP_fromcarbs_lower': 356.8718616435489,\n",
       " 'FP_fromcarbs_g_lower': [8.261699693737672,\n",
       "  1.631719641262787,\n",
       "  4.182271601772905,\n",
       "  5.201810494605781,\n",
       "  1.8782008598241842,\n",
       "  3.1667838798298362],\n",
       " 'FP_fromcarbs_gsum_lower': 24.322486171033166,\n",
       " 'ferm_fromcarbs_cc_lower': 796.6562571356592,\n",
       " 'drymass_fromcarbs_lower': 12.25909982619862,\n",
       " 'energy_fromcarbs_higher': 132.6770146867717,\n",
       " 'FPlist_fromcarbs_higher': [238.25365753998406,\n",
       "  32.07140511337913,\n",
       "  157.35078206537622,\n",
       "  100.0054795382186,\n",
       "  43.90809261345876,\n",
       "  46.44114841618345],\n",
       " 'FP_fromcarbs_higher': 618.0305652866002,\n",
       " 'FP_fromcarbs_g_higher': [14.307608642591124,\n",
       "  2.825811504539835,\n",
       "  7.242856498469267,\n",
       "  9.008493596802731,\n",
       "  3.2526675927124113,\n",
       "  5.484235216467104],\n",
       " 'FP_fromcarbs_gsum_higher': 42.121673051582476,\n",
       " 'ferm_fromcarbs_cc_higher': 1379.6490277186267,\n",
       " 'drymass_fromcarbs_higher': 21.230304795108673,\n",
       " 'energyfrac_fromcarbs_lower': 0.03367570081022469,\n",
       " 'energyfrac_fromcarbs_higher': 0.05831956689528427,\n",
       " 'FP_fromcarbs_standard_error': 130.57935182152568,\n",
       " 'FP_fromcarbs_gsum_standard_error': 8.899593440274653,\n",
       " 'drymass_fromcarbs_standard_error': 4.485602484455027,\n",
       " 'energy_fromcarbs_standard_error': 28.03239767175528,\n",
       " 'energyfrac_fromcarbs_standard_error': 0.012321933042529794,\n",
       " 'FP_infeces': 9.041213793103447,\n",
       " 'FP_infeces_error': 9.41793103448276}"
      ]
     },
     "metadata": {},
     "output_type": "display_data"
    }
   ],
   "source": [
    "#load required functions\n",
    "import numpy as np\n",
    "import pandas as pd\n",
    "import matplotlib.pyplot as plt\n",
    "import matplotlib\n",
    "matplotlib.rcParams['pdf.fonttype'] = 42\n",
    "matplotlib.rcParams['ps.fonttype'] = 42\n",
    "from matplotlib.ticker import PercentFormatter\n",
    "import scipy\n",
    "\n",
    "import json\n",
    "import os\n",
    "\n",
    "capsize=6\n",
    "#set colorscheme\n",
    "colorav='k'\n",
    "colorrefdiet='purple'\n",
    "colorlistferm=['#1b9e77','#d95f02','#7570b3','#e7298a','#66a61e']\n",
    "\n",
    "labelenergybac=\"energy supply via bacteria (kcal)\"\n",
    "labelenergybacfrac=\"enery supply via bacteria (%)\"\n",
    "\n",
    "labelenergybacfracnounit=\"energy supply via bacteria\"\n",
    "\n",
    "results_for_figure2={}\n",
    "import FPcalc #basic calculations of \n",
    "\n",
    "#dict to save major characteristics of British reference diet\n",
    "#load file if already exists, otherwise start with empty dict\n",
    "try:\n",
    "    with open('data_analysisresults/BRD_characteristics.json', 'r') as fp:\n",
    "        BRD = json.load(fp)\n",
    "except:\n",
    "    BRD={}\n",
    "\n",
    "display(BRD)\n",
    "\n"
   ]
  },
  {
   "cell_type": "markdown",
   "metadata": {},
   "source": [
    "# Calculation fermentation products / energy contribution for British diet (via feces)\n"
   ]
  },
  {
   "cell_type": "code",
   "execution_count": 43,
   "metadata": {},
   "outputs": [
    {
     "name": "stdout",
     "output_type": "stream",
     "text": [
      "av and std bacterial dry mass (std derived taking variation of fecal dry weight and fraction of bacteria into account)\n",
      "{'energy': 2275.0, 'carbohydrates': 276.75, 'sugars': 59.0, 'proteins': 72.05000000000001, 'fat': 105.5, 'fiber': 19.9, 'fiber_low': 14.599999999999998, 'fiber_high': 25.2, 'carbLI_standard': 35.670500000000004, 'carbLI_higher': 44.6025, 'carbLI_lower': 25.755000000000003, 'carbLI_error': 9.423749999999998, 'bacwetweight': 117.72413793103448, 'fecalwetmass': 117.72413793103448, 'fecaldrymass': 29.58620689655172, 'fecaldrymassstd': 6.845624030794191, 'fecealfractionbac': 0.546888888888889, 'bacterialdrymass_feces': 16.180367816091955, 'energybacteria_fromfeces': 101.11785577697411, 'FP_fromfeces': 471.0230005849163, 'FP_fromfeces_g': [10.904335695602317, 2.153651111637971, 5.520037668578593, 6.865692286187041, 2.47897326682256, 4.179730053279632], 'FP_fromfeces_gsum': 32.10242008210811, 'energyfrac_fromfeces': 0.04444740913273587, 'energybacteria_fromfeces_error': 23.39653832171075, 'energyfrac_fromfeces_error': 0.010284192668883845, 'FP_fromfeces_error': 108.98478413049628, 'bacterialdrymass_feces_error': 3.743795719952113, 'energy_fromcarbs_standard': 106.10740322592885, 'FPlist_fromcarbs_standard': [190.54149635737915, 25.648855021507547, 125.84005541534675, 79.97859890965813, 35.115153131963034, 37.14094466856056], 'FP_fromcarbs_standard': 494.2651035044152, 'FP_fromcarbs_g_standard': [11.442397939253333, 2.2599206159450302, 5.7924177507684105, 7.204472189782004, 2.6012954288626893, 4.385974155910317], 'FP_fromcarbs_gsum_standard': 33.68647808052178, 'ferm_fromcarbs_cc_standard': 1103.363503015241, 'drymass_fromcarbs_standard': 16.978769961188814, 'energyfrac_fromcarbs_standard': 0.04664061680260609, 'energy_fromcarbs_lower': 76.61221934326116, 'FPlist_fromcarbs_lower': [137.57576256806885, 18.519119751024707, 90.85969154405616, 57.74656410530397, 25.35402556492642, 26.816698110168822], 'FP_fromcarbs_lower': 356.8718616435489, 'FP_fromcarbs_g_lower': [8.261699693737672, 1.631719641262787, 4.182271601772905, 5.201810494605781, 1.8782008598241842, 3.1667838798298362], 'FP_fromcarbs_gsum_lower': 24.322486171033166, 'ferm_fromcarbs_cc_lower': 796.6562571356592, 'drymass_fromcarbs_lower': 12.25909982619862, 'energy_fromcarbs_higher': 132.6770146867717, 'FPlist_fromcarbs_higher': [238.25365753998406, 32.07140511337913, 157.35078206537622, 100.0054795382186, 43.90809261345876, 46.44114841618345], 'FP_fromcarbs_higher': 618.0305652866002, 'FP_fromcarbs_g_higher': [14.307608642591124, 2.825811504539835, 7.242856498469267, 9.008493596802731, 3.2526675927124113, 5.484235216467104], 'FP_fromcarbs_gsum_higher': 42.121673051582476, 'ferm_fromcarbs_cc_higher': 1379.6490277186267, 'drymass_fromcarbs_higher': 21.230304795108673, 'energyfrac_fromcarbs_lower': 0.03367570081022469, 'energyfrac_fromcarbs_higher': 0.05831956689528427, 'FP_fromcarbs_standard_error': 130.57935182152568, 'FP_fromcarbs_gsum_standard_error': 8.899593440274653, 'drymass_fromcarbs_standard_error': 4.485602484455027, 'energy_fromcarbs_standard_error': 28.03239767175528, 'energyfrac_fromcarbs_standard_error': 0.012321933042529794, 'FP_infeces': 9.041213793103447, 'FP_infeces_error': 9.41793103448276}\n",
      "101.11785577697411\n",
      "2275.0\n",
      "0.04444740913273587\n"
     ]
    }
   ],
   "source": [
    "#start with calculating bacterial dry mass\n",
    "print(\"av and std bacterial dry mass (std derived taking variation of fecal dry weight and fraction of bacteria into account)\")\n",
    "\n",
    "\n",
    "BRD[\"bacterialdrymass_feces\"]=BRD[\"fecaldrymass\"]*BRD[\"fecealfractionbac\"]\n",
    "\n",
    "\n",
    "#calculate energy fraction\n",
    "BRD[\"energybacteria_fromfeces\"],ferc,BRD[\"FP_fromfeces\"],BRD[\"FP_fromfeces_g\"],BRD[\"FP_fromfeces_gsum\"],totalcarb,orderc,BRD[\"bacterialdrymass_feces\"]=FPcalc.energycalc(BRD[\"bacterialdrymass_feces\"],scenario='reference',calctype='from_feces')\n",
    "BRD[\"energyfrac_fromfeces\"]=BRD[\"energybacteria_fromfeces\"]/BRD[\"energy\"]\n",
    "\n",
    "#totenergy,totfermlist,totfermlist_sum,totfermlist_gram,totfermlist_gram_sum,totfem_carb,order,bacdrymass #returns energy of fermentation products (in kcal) and \n",
    "print(BRD)\n",
    "\n",
    "print(BRD[\"energybacteria_fromfeces\"])\n",
    "print(BRD[\"energy\"])\n",
    "print(BRD[\"energyfrac_fromfeces\"])\n",
    "\n",
    "#####\n",
    "#calculate relative errors\n",
    "#####\n",
    "\n",
    "#relative error accumulates\n",
    "#relerror=np.sqrt(np.power(BRD[\"fecaldrymassstd\"]/BRD[\"fecaldrymass\"],2)+np.power(BRD[\"fecealfractionbacstd\"]/BRD[\"fecealfractionbac\"],2)) #takes fecal mass variation and fraction bac dry mass into account\n",
    "relerror=BRD[\"fecaldrymassstd\"]/BRD[\"fecaldrymass\"]\n",
    "\n",
    "BRD[\"energybacteria_fromfeces_error\"]=relerror*BRD[\"energybacteria_fromfeces\"]\n",
    "BRD[\"energyfrac_fromfeces_error\"]=relerror*BRD[\"energyfrac_fromfeces\"]\n",
    "BRD[\"FP_fromfeces_error\"]=relerror*BRD[\"FP_fromfeces\"]\n",
    "BRD[\"bacterialdrymass_feces_error\"]=BRD[\"bacterialdrymass_feces\"]*relerror"
   ]
  },
  {
   "cell_type": "markdown",
   "metadata": {},
   "source": [
    "# Calculation energy contribution of bacteira for British ref diet (via carb content)"
   ]
  },
  {
   "cell_type": "code",
   "execution_count": 44,
   "metadata": {},
   "outputs": [],
   "source": [
    "#todo: check if energy calculations, why are the numbers so different for the different ways to estimate?"
   ]
  },
  {
   "cell_type": "code",
   "execution_count": 45,
   "metadata": {},
   "outputs": [],
   "source": [
    "BRD[\"energy_fromcarbs_standard\"],BRD[\"FPlist_fromcarbs_standard\"],BRD[\"FP_fromcarbs_standard\"],BRD[\"FP_fromcarbs_g_standard\"],BRD[\"FP_fromcarbs_gsum_standard\"],BRD[\"ferm_fromcarbs_cc_standard\"],order,BRD[\"drymass_fromcarbs_standard\"]=FPcalc.energycalc(BRD[\"carbLI_standard\"],scenario='reference',calctype='from_carbs')\n",
    "BRD[\"energyfrac_fromcarbs_standard\"]=BRD[\"energy_fromcarbs_standard\"]/BRD[\"energy\"]\n",
    "\n",
    "\n",
    "BRD[\"energy_fromcarbs_lower\"],BRD[\"FPlist_fromcarbs_lower\"],BRD[\"FP_fromcarbs_lower\"],BRD[\"FP_fromcarbs_g_lower\"],BRD[\"FP_fromcarbs_gsum_lower\"],BRD[\"ferm_fromcarbs_cc_lower\"],order,BRD[\"drymass_fromcarbs_lower\"]=FPcalc.energycalc(BRD[\"carbLI_lower\"],scenario='reference',calctype='from_carbs')\n",
    "BRD[\"energy_fromcarbs_higher\"],BRD[\"FPlist_fromcarbs_higher\"],BRD[\"FP_fromcarbs_higher\"],BRD[\"FP_fromcarbs_g_higher\"],BRD[\"FP_fromcarbs_gsum_higher\"],BRD[\"ferm_fromcarbs_cc_higher\"],order,BRD[\"drymass_fromcarbs_higher\"]=FPcalc.energycalc(BRD[\"carbLI_higher\"],scenario='reference',calctype='from_carbs')\n",
    "BRD[\"energyfrac_fromcarbs_lower\"]=BRD[\"energy_fromcarbs_lower\"]/BRD[\"energy\"]\n",
    "BRD[\"energyfrac_fromcarbs_higher\"]=BRD[\"energy_fromcarbs_higher\"]/BRD[\"energy\"]\n",
    "#return totenergy,totfermlist,totfermlist_sum,totfermlist_gram,totfermlist_gram_sum,totfem_carb,order,bacdrymass #returns energy of fermentation products (in kcal) and amount of fermentation products (in mmol)\n",
    "\n",
    "#errors from variation in carbon\n",
    "relerror=BRD[\"carbLI_error\"]/BRD[\"carbLI_standard\"]\n",
    "BRD[\"FP_fromcarbs_standard_error\"]=relerror*BRD[\"FP_fromcarbs_standard\"]\n",
    "BRD[\"FP_fromcarbs_gsum_standard_error\"]=relerror*BRD[\"FP_fromcarbs_gsum_standard\"]\n",
    "BRD[\"drymass_fromcarbs_standard_error\"]=relerror*BRD[\"drymass_fromcarbs_standard\"]\n",
    "BRD[\"energy_fromcarbs_standard_error\"]=relerror*BRD[\"energy_fromcarbs_standard\"]\n",
    "BRD[\"energyfrac_fromcarbs_standard_error\"]=relerror*BRD[\"energyfrac_fromcarbs_standard\"]\n"
   ]
  },
  {
   "cell_type": "markdown",
   "metadata": {},
   "source": [
    "# Look into carbon balance (for via carbohydrate estimation)\n",
    "\n",
    "## look at the numbers together with Markus. Double check: ASSUMED CARBON NUMBERS, DOUBLE CHECK CARBS PER CELL"
   ]
  },
  {
   "cell_type": "code",
   "execution_count": 53,
   "metadata": {},
   "outputs": [
    {
     "name": "stdout",
     "output_type": "stream",
     "text": [
      "********used av. yield and excretion*******\n",
      "carbon total secretion mmolC/g\n",
      "62.916710240208815\n",
      "carbon uptake mmolC/g\n",
      "69.9713022308811\n",
      "********carbon input*******\n",
      "carbon in LI in g\n",
      "35.670500000000004\n",
      "carbon in LI in mmol\n",
      "198.16944444444448\n",
      "carbon in LI in mmol carbon units\n",
      "1189.0166666666669\n",
      "********carbon in excreted fermentation products *******\n",
      "order FP list\n",
      "['acetate', 'butyrate', 'formate', 'lactate', 'propionate', 'succinate']\n",
      "used carbon per FP\n",
      "[2 4 1 3 3 4]\n",
      "daily secretion in mmol FP/day\n",
      "[190.54149636  25.64885502 125.84005542  79.97859891  35.11515313\n",
      "  37.14094467]\n",
      "daily secretion in mmol C/day\n",
      "[381.08299271 102.59542009 125.84005542 239.93579673 105.3454594\n",
      " 148.56377867]\n",
      "total daily secretion mmol C/ day\n",
      "1103.363503015241\n",
      "********carbon in bacteria*******\n",
      "bacterial drymass in g\n",
      "16.978769961188814\n",
      "bacterial drymass - carb atoms in g, assuming 0.5 dryweight is carb\n",
      "DOUBLECHECK 0.5 factor correct?\n",
      "8.489384980594407\n",
      "bacterial drymass - carb atoms in mmol\n",
      "707.4487483828672\n"
     ]
    }
   ],
   "source": [
    "print(\"********used av. yield and excretion*******\")\n",
    "\n",
    "with open(os.path.join(\"data_analysisresults/average_excretion/av_YCA.json\")) as f:\n",
    "        yielddict = json.load(f)\n",
    "print(\"carbon total secretion mmolC/g\")\n",
    "print(yielddict[\"total_secretion_carbon\"])\n",
    "print(\"carbon uptake mmolC/g\")\n",
    "print(yielddict[\"uptake_carbon\"])\n",
    "\n",
    "\n",
    "print(\"********carbon input*******\")\n",
    "print(\"carbon in LI in g\")\n",
    "print(BRD[\"carbLI_standard\"])\n",
    "print(\"carbon in LI in mmol\")\n",
    "print(BRD[\"carbLI_standard\"]/0.180 )\n",
    "print(\"carbon in LI in mmol carbon units\")\n",
    "print(BRD[\"carbLI_standard\"]*6/0.180)\n",
    "\n",
    "\n",
    "print(\"********carbon in excreted fermentation products *******\")\n",
    "print(\"order FP list\")\n",
    "print(order)\n",
    "print(\"used carbon per FP\")\n",
    "cfactorlist=np.array([2,4,1,3,3,4])\n",
    "print(cfactorlist)\n",
    "\n",
    "print(\"daily secretion in mmol FP/day\")\n",
    "print(np.array(BRD[\"FPlist_fromcarbs_standard\"]))\n",
    "print(\"daily secretion in mmol C/day\")\n",
    "print(np.array(BRD[\"FPlist_fromcarbs_standard\"])*cfactorlist)\n",
    "print(\"total daily secretion mmol C/ day\")\n",
    "print(np.sum(np.array(BRD[\"FPlist_fromcarbs_standard\"])*cfactorlist))\n",
    "\n",
    "print(\"********carbon in bacteria*******\")\n",
    "print(\"bacterial drymass in g\")\n",
    "print(BRD[\"drymass_fromcarbs_standard\"])\n",
    "print(\"bacterial drymass - carb atoms in g, assuming 0.5 dryweight is carb\")\n",
    "print(\"DOUBLECHECK 0.5 factor correct?\")\n",
    "print(BRD[\"drymass_fromcarbs_standard\"]*0.5)\n",
    "print(\"bacterial drymass - carb atoms in mmol\")\n",
    "print(BRD[\"drymass_fromcarbs_standard\"]*0.5/0.012) #assumes 12g/mol or 0.012g/mmol\n"
   ]
  },
  {
   "cell_type": "markdown",
   "metadata": {},
   "source": [
    "# same carbon analysis but for different media"
   ]
  },
  {
   "cell_type": "code",
   "execution_count": 47,
   "metadata": {},
   "outputs": [
    {
     "name": "stdout",
     "output_type": "stream",
     "text": [
      "************************\n",
      "*********MEDIA: YCA\n",
      "********used av. yield and excretion*******\n",
      "carbon total secretion mmolC/g\n",
      "62.916710240208815\n",
      "carbon uptake mmolC/g\n",
      "69.9713022308811\n",
      "********carbon input*******\n",
      "carbon in LI in mmol carbon units\n",
      "1189.0166666666669\n",
      "********carbon in excreted fermentation products *******\n",
      "total daily secretion mmol C/ day\n",
      "1068.248349883278\n",
      "********carbon in bacteria*******\n",
      "bacterial drymass - carb atoms in mmol\n",
      "707.4487483828672\n",
      "************************\n",
      "*********MEDIA: epsilon\n",
      "********used av. yield and excretion*******\n",
      "carbon total secretion mmolC/g\n",
      "72.83729866435785\n",
      "carbon uptake mmolC/g\n",
      "79.35858319240998\n",
      "********carbon input*******\n",
      "carbon in LI in mmol carbon units\n",
      "1189.0166666666669\n",
      "********carbon in excreted fermentation products *******\n",
      "total daily secretion mmol C/ day\n",
      "1090.4006604321376\n",
      "********carbon in bacteria*******\n",
      "bacterial drymass - carb atoms in mmol\n",
      "623.7650446195281\n",
      "************************\n",
      "*********MEDIA: gamma\n",
      "********used av. yield and excretion*******\n",
      "carbon total secretion mmolC/g\n",
      "62.0656911731357\n",
      "carbon uptake mmolC/g\n",
      "89.64200194042246\n",
      "********carbon input*******\n",
      "carbon in LI in mmol carbon units\n",
      "1189.0166666666669\n",
      "********carbon in excreted fermentation products *******\n",
      "total daily secretion mmol C/ day\n",
      "822.5574309429181\n",
      "********carbon in bacteria*******\n",
      "bacterial drymass - carb atoms in mmol\n",
      "552.2088877360793\n",
      "************************\n",
      "*********MEDIA: BHI\n",
      "********used av. yield and excretion*******\n",
      "carbon total secretion mmolC/g\n",
      "71.77180512724799\n",
      "carbon uptake mmolC/g\n",
      "44.72485366237465\n",
      "********carbon input*******\n",
      "carbon in LI in mmol carbon units\n",
      "1189.0166666666669\n",
      "********carbon in excreted fermentation products *******\n",
      "total daily secretion mmol C/ day\n",
      "1906.4750318927217\n",
      "********carbon in bacteria*******\n",
      "bacterial drymass - carb atoms in mmol\n",
      "1106.7919989104312\n"
     ]
    }
   ],
   "source": [
    "for media in [\"YCA\",\"epsilon\",\"gamma\",\"BHI\"]:\n",
    "    curengery,curFPlist,curFP,curFPg,curFPgsum,curFPcc,order,curdryweight=FPcalc.energycalc(BRD[\"carbLI_standard\"],scenario='reference',calctype='from_carbs',dict_yielddata=\"data_analysisresults/average_excretion/av_\"+media+\".json\")\n",
    "\n",
    "    print(\"************************\")\n",
    "    print(\"*********MEDIA: \"+media)\n",
    "    print(\"********used av. yield and excretion*******\")\n",
    "\n",
    "    with open(os.path.join(\"data_analysisresults/average_excretion/av_\"+media+\".json\")) as f:\n",
    "            yielddict = json.load(f)\n",
    "    print(\"carbon total secretion mmolC/g\")\n",
    "    print(yielddict[\"total_secretion_carbon\"])\n",
    "    print(\"carbon uptake mmolC/g\")\n",
    "    print(yielddict[\"uptake_carbon\"])\n",
    "\n",
    "\n",
    "    print(\"********carbon input*******\")\n",
    "    #print(\"carbon in LI in g\")\n",
    "    #print(BRD[\"carbLI\"])\n",
    "    #print(\"carbon in LI in mmol\")\n",
    "    #print(BRD[\"carbLI\"]/0.180 )\n",
    "    print(\"carbon in LI in mmol carbon units\")\n",
    "    print(BRD[\"carbLI_standard\"]*6/0.180)\n",
    "\n",
    "\n",
    "    print(\"********carbon in excreted fermentation products *******\")\n",
    "    #print(\"order FP list\")\n",
    "    #print(order)\n",
    "    #print(\"used carbon per FP\")\n",
    "    #cfactorlist=np.array([2,4,1,3,2,4])\n",
    "    #print(cfactorlist)\n",
    "\n",
    "    #print(\"daily secretion in mmol FP/day\")\n",
    "    #print(np.array(curFPlist))\n",
    "    #print(\"daily secretion in mmol C/day\")\n",
    "    #print(np.array(curFPlist)*cfactorlist)\n",
    "    print(\"total daily secretion mmol C/ day\")\n",
    "    print(np.sum(np.array(curFPlist)*cfactorlist))\n",
    "\n",
    "    print(\"********carbon in bacteria*******\")\n",
    "    #print(\"bacterial drymass in g\")\n",
    "    #print(curdryweight)\n",
    "    #print(\"bacterial drymass - carb atoms in g, assuming 0.5 dryweight is carb\")\n",
    "    #print(\"DOUBLECHECK 0.5 factor correct?\")\n",
    "    #print(curdryweight*0.5)\n",
    "    print(\"bacterial drymass - carb atoms in mmol\")\n",
    "    print(curdryweight*0.5/0.012) #assumes 12g/mol or 0.012g/mmol\n"
   ]
  },
  {
   "cell_type": "markdown",
   "metadata": {},
   "source": [
    "# SIMPLE comparion plot"
   ]
  },
  {
   "cell_type": "code",
   "execution_count": 48,
   "metadata": {},
   "outputs": [
    {
     "name": "stdout",
     "output_type": "stream",
     "text": [
      "0.04444740913273587\n"
     ]
    },
    {
     "data": {
      "image/png": "[encoded data removed]",
      "text/plain": [
       "<Figure size 230x350 with 1 Axes>"
      ]
     },
     "metadata": {},
     "output_type": "display_data"
    },
    {
     "data": {
      "image/png": "[encoded data removed]",
      "text/plain": [
       "<Figure size 230x350 with 1 Axes>"
      ]
     },
     "metadata": {},
     "output_type": "display_data"
    }
   ],
   "source": [
    "#compare different estimations (from fecal weight, and from carbs reaching LI\n",
    "\n",
    "#\n",
    "#plot energy fraction for both types of measurements\n",
    "fig, axs = plt.subplots(1,1, figsize=(2.3,3.5))\n",
    "axs=[axs]\n",
    "\n",
    "print(BRD[\"energyfrac_fromfeces\"])\n",
    "axs[0].bar([1,2],[BRD[\"energyfrac_fromfeces\"]*100,BRD[\"energyfrac_fromcarbs_standard\"]*100],yerr=[100*BRD[\"energyfrac_fromfeces_error\"],100*BRD[\"energyfrac_fromcarbs_standard_error\"]],color=[colorrefdiet,colorrefdiet],capsize=capsize)\n",
    "#\n",
    "#    databox,labels=[\"bacteria\"],vert=True,showfliers=True, widths=[0.7]*1,patch_artist=True,)#,\"Mice (autoclaved lab coy)\"])\n",
    "\n",
    "axs[0].set_ylabel(labelenergybacfrac)\n",
    "axs[0].set_xticks([1,2])\n",
    "axs[0].set_xticklabels([\"via fecal mass\",\"via carbs\"],rotation=90)\n",
    "#axs[0].set_ylim(0,280)\n",
    "\n",
    "fig.tight_layout()\n",
    "fig.savefig(\"plot_output/BRITISH_carbLI.pdf\")\n",
    "\n",
    "\n",
    "#plot energy fraction for both types of measurements\n",
    "fig, axs = plt.subplots(1,1, figsize=(2.3,3.5))\n",
    "axs=[axs]\n",
    "\n",
    "axs[0].bar([1,2],[BRD[\"FP_fromfeces\"],BRD[\"FP_fromcarbs_standard\"]],yerr=[BRD[\"FP_fromfeces_error\"],BRD[\"FP_fromcarbs_standard_error\"]],color=[colorrefdiet,colorrefdiet],capsize=capsize)\n",
    "  \n",
    "#    databox,labels=[\"bacteria\"],vert=True,showfliers=True, widths=[0.7]*1,patch_artist=True,)#,\"Mice (autoclaved lab coy)\"])\n",
    "\n",
    "axs[0].set_ylabel(\"fermentation products (mmol/day)\")\n",
    "axs[0].set_xticks([1,2])\n",
    "axs[0].set_xticklabels([\"via fecal mass\",\"via carbs\"],rotation=90)\n",
    "#axs[0].set_ylim(0,280)\n",
    "\n",
    "fig.tight_layout()\n",
    "fig.savefig(\"plot_output/BRITISH_carbLI_ferm2.pdf\")\n",
    "\n",
    "\n",
    "\n",
    "\n",
    "\n",
    "\n"
   ]
  },
  {
   "cell_type": "markdown",
   "metadata": {},
   "source": [
    "\n",
    "## Fig. S2: Add figure how \"carbs available for microbiota\" changes with fiber digestion fraction and starch absorbance\n",
    "--> Standard: 0.5 fiber digestion, 0.1 starch passage #Englyst. Fiber unclear, but we show that it does not matter much for British ref diet\n",
    "e.g. panel: vary fiber digestion fraction on x-axis (show different lines for starch passage (0.05,0.1,0.15)\n",
    "possible: add other panel showing how total FPs change with fiber digestion fraction\n",
    "\n"
   ]
  },
  {
   "cell_type": "code",
   "execution_count": 49,
   "metadata": {},
   "outputs": [
    {
     "name": "stdout",
     "output_type": "stream",
     "text": [
      "{'energy': 2275.0, 'carbohydrates': 276.75, 'sugars': 59.0, 'proteins': 72.05000000000001, 'fat': 105.5, 'fiber': 19.9, 'fiber_low': 14.599999999999998, 'fiber_high': 25.2, 'carbLI_standard': 35.670500000000004, 'carbLI_higher': 44.6025, 'carbLI_lower': 25.755000000000003, 'carbLI_error': 9.423749999999998, 'bacwetweight': 117.72413793103448, 'fecalwetmass': 117.72413793103448, 'fecaldrymass': 29.58620689655172, 'fecaldrymassstd': 6.845624030794191, 'fecealfractionbac': 0.546888888888889, 'bacterialdrymass_feces': 16.180367816091955, 'energybacteria_fromfeces': 101.11785577697411, 'FP_fromfeces': 471.0230005849163, 'FP_fromfeces_g': [10.904335695602317, 2.153651111637971, 5.520037668578593, 6.865692286187041, 2.47897326682256, 4.179730053279632], 'FP_fromfeces_gsum': 32.10242008210811, 'energyfrac_fromfeces': 0.04444740913273587, 'energybacteria_fromfeces_error': 23.39653832171075, 'energyfrac_fromfeces_error': 0.010284192668883845, 'FP_fromfeces_error': 108.98478413049628, 'bacterialdrymass_feces_error': 3.743795719952113, 'energy_fromcarbs_standard': 106.10740322592885, 'FPlist_fromcarbs_standard': [190.54149635737915, 25.648855021507547, 125.84005541534675, 79.97859890965813, 35.115153131963034, 37.14094466856056], 'FP_fromcarbs_standard': 494.2651035044152, 'FP_fromcarbs_g_standard': [11.442397939253333, 2.2599206159450302, 5.7924177507684105, 7.204472189782004, 2.6012954288626893, 4.385974155910317], 'FP_fromcarbs_gsum_standard': 33.68647808052178, 'ferm_fromcarbs_cc_standard': 1103.363503015241, 'drymass_fromcarbs_standard': 16.978769961188814, 'energyfrac_fromcarbs_standard': 0.04664061680260609, 'energy_fromcarbs_lower': 76.61221934326116, 'FPlist_fromcarbs_lower': [137.57576256806885, 18.519119751024707, 90.85969154405616, 57.74656410530397, 25.35402556492642, 26.816698110168822], 'FP_fromcarbs_lower': 356.8718616435489, 'FP_fromcarbs_g_lower': [8.261699693737672, 1.631719641262787, 4.182271601772905, 5.201810494605781, 1.8782008598241842, 3.1667838798298362], 'FP_fromcarbs_gsum_lower': 24.322486171033166, 'ferm_fromcarbs_cc_lower': 796.6562571356592, 'drymass_fromcarbs_lower': 12.25909982619862, 'energy_fromcarbs_higher': 132.6770146867717, 'FPlist_fromcarbs_higher': [238.25365753998406, 32.07140511337913, 157.35078206537622, 100.0054795382186, 43.90809261345876, 46.44114841618345], 'FP_fromcarbs_higher': 618.0305652866002, 'FP_fromcarbs_g_higher': [14.307608642591124, 2.825811504539835, 7.242856498469267, 9.008493596802731, 3.2526675927124113, 5.484235216467104], 'FP_fromcarbs_gsum_higher': 42.121673051582476, 'ferm_fromcarbs_cc_higher': 1379.6490277186267, 'drymass_fromcarbs_higher': 21.230304795108673, 'energyfrac_fromcarbs_lower': 0.03367570081022469, 'energyfrac_fromcarbs_higher': 0.05831956689528427, 'FP_fromcarbs_standard_error': 130.57935182152568, 'FP_fromcarbs_gsum_standard_error': 8.899593440274653, 'drymass_fromcarbs_standard_error': 4.485602484455027, 'energy_fromcarbs_standard_error': 28.03239767175528, 'energyfrac_fromcarbs_standard_error': 0.012321933042529794, 'FP_infeces': 9.041213793103447, 'FP_infeces_error': 9.41793103448276}\n"
     ]
    }
   ],
   "source": [
    "print(BRD)"
   ]
  },
  {
   "cell_type": "markdown",
   "metadata": {},
   "source": [
    "# Plots total amount of fermentation products reaching large intestine\n",
    "\n",
    "For Fig. S\n",
    "add as a side point how little of those fermentation products are recovered in feces\n"
   ]
  },
  {
   "cell_type": "markdown",
   "metadata": {},
   "source": [
    "# main results British reference diet in one plot"
   ]
  },
  {
   "cell_type": "code",
   "execution_count": 50,
   "metadata": {},
   "outputs": [
    {
     "data": {
      "image/png": "[encoded data removed]",
      "text/plain": [
       "<Figure size 400x300 with 6 Axes>"
      ]
     },
     "metadata": {},
     "output_type": "display_data"
    }
   ],
   "source": [
    "fig, axs = plt.subplots(3,2, figsize=(4,3))\n",
    "\n",
    "\n",
    "####from carb calculation\n",
    "\n",
    "#carbs\n",
    "axs[0,1].barh(1,BRD[\"carbLI_standard\"],height=0.7,xerr=BRD[\"carbLI_error\"],color=[colorrefdiet,colorrefdiet],capsize=capsize)\n",
    "axs[0,1].set_xlabel(\"microbiota digestible\\n carbs (g/day)\")\n",
    "#bacterial dry mass\n",
    "axs[1,1].barh(1,BRD[\"drymass_fromcarbs_standard\"],height=0.7,xerr=BRD[\"drymass_fromcarbs_standard_error\"],color=[colorrefdiet,colorrefdiet],capsize=capsize)\n",
    "axs[1,1].set_xlabel(\"bacterial dry \\n weight (g/day)\")\n",
    "#femrentation products\n",
    "axs[2,1].barh(1,BRD[\"FP_fromcarbs_standard\"],height=0.7,xerr=BRD[\"FP_fromcarbs_standard_error\"],color=[colorrefdiet,colorrefdiet],capsize=capsize)\n",
    "axs[2,1].set_xlabel(\"fermentation \\n products (mmol/day\")\n",
    "\n",
    "#colors=[colorrefdiet]*2\n",
    "#for patch, color in zip(bplot1['boxes'], colors):\n",
    "#        patch.set_facecolor(color)\n",
    "#axs[0].set_xlabel('bacterial dry mass (g/day)')\n",
    "#axs[0].set_xlim(0,30)\n",
    "\n",
    "####from feces calculation\n",
    "\n",
    "#########\n",
    "#feces\n",
    "#########\n",
    "\n",
    "axs[0,0].barh(1,BRD[\"fecaldrymass\"],height=0.7,xerr=BRD[\"fecaldrymassstd\"],color=[colorrefdiet,colorrefdiet],capsize=capsize)\n",
    "axs[0,0].set_xlabel(\"fecal dry weight (g/day)\")\n",
    "#bacterial dry mass\n",
    "axs[1,0].barh(1,BRD[\"bacterialdrymass_feces\"],height=0.7,xerr=BRD[\"bacterialdrymass_feces_error\"],color=[colorrefdiet,colorrefdiet],capsize=capsize)\n",
    "axs[1,0].set_xlabel(\"bacterial dry \\n weight (g/day)\")\n",
    "#femrentation products\n",
    "axs[2,0].barh(1,BRD[\"FP_fromfeces\"],height=0.7,xerr=BRD[\"FP_fromfeces_error\"],color=[colorrefdiet,colorrefdiet],capsize=capsize)\n",
    "axs[2,0].set_xlabel(\"fermentation \\n products (mmol/day\")\n",
    "\n",
    "axs[0,0].set_xlim(0,40)\n",
    "axs[0,1].set_xlim(0,60)\n",
    "axs[1,0].set_xlim(0,40)\n",
    "axs[1,1].set_xlim(0,35)\n",
    "axs[2,0].set_xlim(0,1100)\n",
    "axs[2,1].set_xlim(0,1100)\n",
    "\n",
    "\n",
    "axs[0,0].set_yticks([])\n",
    "axs[1,0].set_yticks([])\n",
    "axs[2,0].set_yticks([])\n",
    "axs[0,1].set_yticks([])\n",
    "axs[1,1].set_yticks([])\n",
    "axs[2,1].set_yticks([])\n",
    "\n",
    "axs[1,0].set_xticks([0,10,20,30])\n",
    "axs[1,1].set_xticks([0,10,20,30])\n",
    "\n",
    "ym=0.5\n",
    "ymax=1.5\n",
    "axs[0,0].set_ylim(ym,ymax)\n",
    "axs[1,0].set_ylim(ym,ymax)\n",
    "axs[2,0].set_ylim(ym,ymax)\n",
    "axs[0,1].set_ylim(ym,ymax)\n",
    "axs[1,1].set_ylim(ym,ymax)\n",
    "axs[2,1].set_ylim(ym,ymax)\n",
    "\n",
    "axs[0,0].spines[['right', 'top']].set_visible(False)\n",
    "axs[1,0].spines[['right', 'top']].set_visible(False)\n",
    "axs[2,0].spines[['right', 'top']].set_visible(False)\n",
    "axs[0,1].spines[['right', 'top']].set_visible(False)\n",
    "axs[1,1].spines[['right', 'top']].set_visible(False)\n",
    "axs[2,1].spines[['right', 'top']].set_visible(False)\n",
    "\n",
    "\n",
    "fig.tight_layout()\n",
    "fig.savefig(\"plot_output_figure2/BRITISH_mainnumbers.pdf\")\n",
    "\n"
   ]
  },
  {
   "cell_type": "markdown",
   "metadata": {},
   "source": [
    "# Fermentation products in feces"
   ]
  },
  {
   "cell_type": "code",
   "execution_count": 51,
   "metadata": {},
   "outputs": [
    {
     "name": "stdout",
     "output_type": "stream",
     "text": [
      "{'energy': 2275.0, 'carbohydrates': 276.75, 'sugars': 59.0, 'proteins': 72.05000000000001, 'fat': 105.5, 'fiber': 19.9, 'fiber_low': 14.599999999999998, 'fiber_high': 25.2, 'carbLI_standard': 35.670500000000004, 'carbLI_higher': 44.6025, 'carbLI_lower': 25.755000000000003, 'carbLI_error': 9.423749999999998, 'bacwetweight': 117.72413793103448, 'fecalwetmass': 117.72413793103448, 'fecaldrymass': 29.58620689655172, 'fecaldrymassstd': 6.845624030794191, 'fecealfractionbac': 0.546888888888889, 'bacterialdrymass_feces': 16.180367816091955, 'energybacteria_fromfeces': 101.11785577697411, 'FP_fromfeces': 471.0230005849163, 'FP_fromfeces_g': [10.904335695602317, 2.153651111637971, 5.520037668578593, 6.865692286187041, 2.47897326682256, 4.179730053279632], 'FP_fromfeces_gsum': 32.10242008210811, 'energyfrac_fromfeces': 0.04444740913273587, 'energybacteria_fromfeces_error': 23.39653832171075, 'energyfrac_fromfeces_error': 0.010284192668883845, 'FP_fromfeces_error': 108.98478413049628, 'bacterialdrymass_feces_error': 3.743795719952113, 'energy_fromcarbs_standard': 106.10740322592885, 'FPlist_fromcarbs_standard': [190.54149635737915, 25.648855021507547, 125.84005541534675, 79.97859890965813, 35.115153131963034, 37.14094466856056], 'FP_fromcarbs_standard': 494.2651035044152, 'FP_fromcarbs_g_standard': [11.442397939253333, 2.2599206159450302, 5.7924177507684105, 7.204472189782004, 2.6012954288626893, 4.385974155910317], 'FP_fromcarbs_gsum_standard': 33.68647808052178, 'ferm_fromcarbs_cc_standard': 1103.363503015241, 'drymass_fromcarbs_standard': 16.978769961188814, 'energyfrac_fromcarbs_standard': 0.04664061680260609, 'energy_fromcarbs_lower': 76.61221934326116, 'FPlist_fromcarbs_lower': [137.57576256806885, 18.519119751024707, 90.85969154405616, 57.74656410530397, 25.35402556492642, 26.816698110168822], 'FP_fromcarbs_lower': 356.8718616435489, 'FP_fromcarbs_g_lower': [8.261699693737672, 1.631719641262787, 4.182271601772905, 5.201810494605781, 1.8782008598241842, 3.1667838798298362], 'FP_fromcarbs_gsum_lower': 24.322486171033166, 'ferm_fromcarbs_cc_lower': 796.6562571356592, 'drymass_fromcarbs_lower': 12.25909982619862, 'energy_fromcarbs_higher': 132.6770146867717, 'FPlist_fromcarbs_higher': [238.25365753998406, 32.07140511337913, 157.35078206537622, 100.0054795382186, 43.90809261345876, 46.44114841618345], 'FP_fromcarbs_higher': 618.0305652866002, 'FP_fromcarbs_g_higher': [14.307608642591124, 2.825811504539835, 7.242856498469267, 9.008493596802731, 3.2526675927124113, 5.484235216467104], 'FP_fromcarbs_gsum_higher': 42.121673051582476, 'ferm_fromcarbs_cc_higher': 1379.6490277186267, 'drymass_fromcarbs_higher': 21.230304795108673, 'energyfrac_fromcarbs_lower': 0.03367570081022469, 'energyfrac_fromcarbs_higher': 0.05831956689528427, 'FP_fromcarbs_standard_error': 130.57935182152568, 'FP_fromcarbs_gsum_standard_error': 8.899593440274653, 'drymass_fromcarbs_standard_error': 4.485602484455027, 'energy_fromcarbs_standard_error': 28.03239767175528, 'energyfrac_fromcarbs_standard_error': 0.012321933042529794, 'FP_infeces': 9.041213793103447, 'FP_infeces_error': 9.41793103448276}\n",
      "dict_items([('glucose', -10.612578579775516), ('acetate', 11.222338060585743), ('propionate', 2.0681800396749326), ('succinate', 2.187493249125806), ('lactate', 4.7105060668398515), ('butyrate', 1.510642707342015), ('formate', 7.411612013296617), ('maltose', -0.5246525626856666), ('uptake', 11.661883705146849), ('uptake_carbon', 69.9713022308811), ('total_secretion', 29.110772136864966), ('total_secretion_carbon', 62.916710240208815)])\n",
      "total secretion feces mmol/day:\n",
      "9.041213793103447\n",
      "different fp products (ace,but,for,lac,suc,prop, mmol/day):\n",
      "[2.9204985150480818, 0.3931292890788478, 1.9287960995371682, 1.2258609479647709, 0.5692727087047111, 0.5382226682277884]\n",
      "7.575780228561369\n",
      "C in different products mmol/day\n",
      "16.373429301117458\n"
     ]
    },
    {
     "data": {
      "image/png": "[encoded data removed]",
      "text/plain": [
       "<Figure size 230x350 with 1 Axes>"
      ]
     },
     "metadata": {},
     "output_type": "display_data"
    }
   ],
   "source": [
    "#how much mmol of fermentation products in feces\n",
    "#typical value is 80mmol/l (or 76.8 mmol/l as reported in the following)\n",
    "#https://pubmed.ncbi.nlm.nih.gov/6740214/\n",
    "print(BRD)\n",
    "\n",
    "BRD[\"FP_infeces\"]=BRD[\"fecalwetmass\"]*76.8/1000.\n",
    "ferminfeces_upper=BRD[\"fecalwetmass\"]*190/1000.\n",
    "ferminfeces_lower=BRD[\"fecalwetmass\"]*30/1000.\n",
    "BRD[\"FP_infeces_error\"]=(ferminfeces_upper-ferminfeces_lower)/2.\n",
    "ferminfeces_g=BRD[\"FP_infeces\"]*0.08 #assume roughly average\n",
    "\n",
    "\n",
    "with open(os.path.join(\"data_analysisresults/average_excretion/av_YCA.json\")) as f:\n",
    "        yielddict2 = json.load(f)\n",
    "print(yielddict2.items())\n",
    "\n",
    "### read in json file with secretion data\n",
    "fpinfeces_list=[]\n",
    "sum_fp=0\n",
    "sum_c=0\n",
    "subc=-1\n",
    "ccount=[2,4,1,3,4,2]\n",
    "for sub in [\"acetate\",\"butyrate\",\"formate\",\"lactate\",\"succinate\",\"propionate\"]:\n",
    "    subc=subc+1\n",
    "    fpinfeces_list.append(yielddict2[sub]*BRD[\"FP_infeces\"]/yielddict[\"total_secretion\"])\n",
    "    sum_fp=sum_fp+fpinfeces_list[-1]\n",
    "    sum_c=sum_c+fpinfeces_list[-1]*ccount[subc]\n",
    "print(\"total secretion feces mmol/day:\")\n",
    "print(BRD[\"FP_infeces\"])\n",
    "print(\"different fp products (ace,but,for,lac,suc,prop, mmol/day):\")\n",
    "print(fpinfeces_list)\n",
    "print(sum_fp)\n",
    "print(\"C in different products mmol/day\")\n",
    "print(sum_c)\n",
    "\n",
    "\n",
    "\n",
    "###calculate carbon content of FP in feces\n",
    "###assume same consumption as secreted by bacteria\n",
    "\n",
    "#plot energy fraction for both types of measurements\n",
    "fig, axs = plt.subplots(1,1, figsize=(2.3,3.5))\n",
    "axs=[axs]\n",
    "axs[0].bar([1,2,3],[BRD[\"FP_fromfeces\"],BRD[\"FP_fromcarbs_standard\"],BRD[\"FP_infeces\"]],color=['k','k','brown'])\n",
    "        \n",
    "#    databox,labels=[\"bacteria\"],vert=True,showfliers=True, widths=[0.7]*1,patch_artist=True,)#,\"Mice (autoclaved lab coy)\"])\n",
    "axs[0].set_ylabel('ferment. products (mmol/day)')\n",
    "axs[0].set_xticks([1,2,3])\n",
    "axs[0].set_xticklabels([\"approx. via fecal mass\",\"approx. via carbs\",\"in feces\"],rotation=90)\n",
    "#axs[0].set_ylim(0,280)\n",
    "\n",
    "fig.tight_layout()\n",
    "fig.savefig(\"plot_output/BRITISH_ferm_includeinfeces.pdf\")\n"
   ]
  },
  {
   "cell_type": "markdown",
   "metadata": {},
   "source": [
    "# Consideration of ATP"
   ]
  },
  {
   "cell_type": "code",
   "execution_count": null,
   "metadata": {},
   "outputs": [],
   "source": [
    "\n",
    "\n",
    "####\n",
    "#look into pathways, how many ATP are obtained per fermentation product. This varies with the metabolic pathways involves. And in principle it also depends on the type of sugar involved. But things simplify as glucose and other substrates are mostly utilized via glycolysis.\n",
    "#considering glycolysis, the first step is to go from 1 glucose \n",
    "####\n",
    "#how much ATP is released per fermentation pathway\n",
    "ATPgain=[2,2,0,2,2]#ATP gain for the cell per excreted acetate, butyrate, lactate, propinonate, succinate\n",
    "#most of the pathways give 2ATP per secretion of a fermentation product, but lactate does not give any atp (but helps with the redox balance)\n",
    "\n",
    "#####\n",
    "#use excretion numbers to estimate ATP\n",
    "#####\n",
    "\n",
    "#excretionBg fermentation products released (in mmol/g)\n",
    "#ATP release per fermentation\n",
    "ATPyieldc=np.array([np.sum(ATPgain*excretionBg),np.sum(ATPgain*excretionEg)])#in mmol ATP/g\n",
    "#convert to g/mol ATP\n",
    "ATPyieldc=1000./ATPyieldc\n",
    "print(\"ATP yield estimated via excretion of fermentation products (g/mol ATP)\")\n",
    "print(ATPyieldc)\n",
    "\n",
    "#B.theta and E.rectale yield in OD/mM\n",
    "yield_glucose=np.array([0.148, 0.094])\n",
    "yield_glucose_std=np.array([0.046,0.009])\n",
    "#conversion in g/mmol\n",
    "conversitionOD=np.array([0.507,0.5,0.494,0.522,0.516,0.513]).mean() #in g/(l*OD) #this is based on Basan et al 2015 (inflating cell size), for our spec\n",
    "yield_glucose=1000*yield_glucose*conversitionOD #in g/mol=OD l/mol *g/l/OD=g/mol; (1000 to coonvert mmol to mol)\n",
    "yield_glucose_std=1000*yield_glucose_std*conversitionOD\n",
    "print(\"measred yields in g/mol glucose for B. theta and E. rectale\")\n",
    "print(yield_glucose) #yield in g dryweight /mol glucose\n",
    "\n",
    "#remove the minimal amount which is needed for biomass accumulation\n",
    "#remove fractioon of glucose needed to make biomass (estimated via carbon requirement)\n",
    "#start with fraction of carbon in dry mass 0.47 g C/g cells -> 0.47/12=0.039 mol carb /g cells (12g/mol carb) -> 0.039/6=0.0065 mol glu/g cells (6 c per glucose) --> 25.6 g cells/mol glu\n",
    "print('yield corrected for biomass')\n",
    "yield_glucose_biomasscorrected=yield_glucose-25.6\n",
    "print(yield_glucose_biomasscorrected)\n",
    "print(\"Calculate ATP yield (g/mol ATP)\")\n",
    "#print(yield_glucose_biomasscorrected/ATPperGlu)\n",
    "\n",
    "####\n",
    "#compare with theoretical estimation of yield\n",
    "####\n",
    "#Stouthamer 1973 calculate as max yield: 28.5 g/mol ATP or 35 mmol ATP/g \n",
    "#other authors calculate lower yield. E.g. 14.7 g/mol ATP or 68 mmol ATP/g. Feist et al. 2007\n",
    "#check also Niedhardt et al. 1990\n",
    "#some difference in treating the metabolic costs of NAD(H), NADP(H), and FAD(H2).\n",
    "\n",
    "print('theoretical yield estimated for E. coli in g/mol ATP')\n",
    "print(\"between 15 and 28 depending on authors\")\n",
    "\n",
    "####\n",
    "#compare with experimental values from E. coli\n",
    "####\n",
    "#see also very useful notes from Ron Milo's group https://openwetware.org/wiki/Ecoli_ATP_requirement\n",
    "#experimenta yield\n",
    "print('experimental yield estimated for E. coli in g/mol ATP')\n",
    "print(10)\n",
    "#experimentally estimated for E. coli as YATP_max (no maintaneance energy) for growth in anaerobic conditions\n",
    "#approx 10.3 grams of cells per mole of ATP (Hempfling and Mainzer 1975). Other reported values vary a bit, e.g. ~8g/mol ATP\n",
    "\n",
    "#####\n",
    "#use difference in ethnalpies\n",
    "#####\n",
    "\n",
    "#start with glucose: yield_glucose in g cells per mol glucose\n",
    "H_glu=0.6787763*1000# kcal/mol\n",
    "\n",
    "energy_consumed=H_glu/yield_glucose_biomasscorrected\n",
    "print(\"energy consumbed by different strains\")\n",
    "print(energy_consumed)\n",
    "#excretionBg fermentation products released (in mmol/g)\n",
    "#enthalpie in kcal per mmol\n",
    "energy_released=np.sum(excretionBg*H),np.sum(excretionEg*H) #energy released in kcal per g\n",
    "print(\"energy released by different strains\")\n",
    "print(energy_released)\n",
    "print(\"net energy needed for growth\")"
   ]
  },
  {
   "cell_type": "code",
   "execution_count": null,
   "metadata": {},
   "outputs": [],
   "source": []
  },
  {
   "cell_type": "markdown",
   "metadata": {},
   "source": [
    "# Save numbers to dict"
   ]
  },
  {
   "cell_type": "code",
   "execution_count": 52,
   "metadata": {},
   "outputs": [
    {
     "name": "stdout",
     "output_type": "stream",
     "text": [
      "{'energy': 2275.0, 'carbohydrates': 276.75, 'sugars': 59.0, 'proteins': 72.05000000000001, 'fat': 105.5, 'fiber': 19.9, 'fiber_low': 14.599999999999998, 'fiber_high': 25.2, 'carbLI_standard': 35.670500000000004, 'carbLI_higher': 44.6025, 'carbLI_lower': 25.755000000000003, 'carbLI_error': 9.423749999999998, 'bacwetweight': 117.72413793103448, 'fecalwetmass': 117.72413793103448, 'fecaldrymass': 29.58620689655172, 'fecaldrymassstd': 6.845624030794191, 'fecealfractionbac': 0.546888888888889, 'bacterialdrymass_feces': 16.180367816091955, 'energybacteria_fromfeces': 101.11785577697411, 'FP_fromfeces': 471.0230005849163, 'FP_fromfeces_g': [10.904335695602317, 2.153651111637971, 5.520037668578593, 6.865692286187041, 2.47897326682256, 4.179730053279632], 'FP_fromfeces_gsum': 32.10242008210811, 'energyfrac_fromfeces': 0.04444740913273587, 'energybacteria_fromfeces_error': 23.39653832171075, 'energyfrac_fromfeces_error': 0.010284192668883845, 'FP_fromfeces_error': 108.98478413049628, 'bacterialdrymass_feces_error': 3.743795719952113, 'energy_fromcarbs_standard': 106.10740322592885, 'FPlist_fromcarbs_standard': [190.54149635737915, 25.648855021507547, 125.84005541534675, 79.97859890965813, 35.115153131963034, 37.14094466856056], 'FP_fromcarbs_standard': 494.2651035044152, 'FP_fromcarbs_g_standard': [11.442397939253333, 2.2599206159450302, 5.7924177507684105, 7.204472189782004, 2.6012954288626893, 4.385974155910317], 'FP_fromcarbs_gsum_standard': 33.68647808052178, 'ferm_fromcarbs_cc_standard': 1103.363503015241, 'drymass_fromcarbs_standard': 16.978769961188814, 'energyfrac_fromcarbs_standard': 0.04664061680260609, 'energy_fromcarbs_lower': 76.61221934326116, 'FPlist_fromcarbs_lower': [137.57576256806885, 18.519119751024707, 90.85969154405616, 57.74656410530397, 25.35402556492642, 26.816698110168822], 'FP_fromcarbs_lower': 356.8718616435489, 'FP_fromcarbs_g_lower': [8.261699693737672, 1.631719641262787, 4.182271601772905, 5.201810494605781, 1.8782008598241842, 3.1667838798298362], 'FP_fromcarbs_gsum_lower': 24.322486171033166, 'ferm_fromcarbs_cc_lower': 796.6562571356592, 'drymass_fromcarbs_lower': 12.25909982619862, 'energy_fromcarbs_higher': 132.6770146867717, 'FPlist_fromcarbs_higher': [238.25365753998406, 32.07140511337913, 157.35078206537622, 100.0054795382186, 43.90809261345876, 46.44114841618345], 'FP_fromcarbs_higher': 618.0305652866002, 'FP_fromcarbs_g_higher': [14.307608642591124, 2.825811504539835, 7.242856498469267, 9.008493596802731, 3.2526675927124113, 5.484235216467104], 'FP_fromcarbs_gsum_higher': 42.121673051582476, 'ferm_fromcarbs_cc_higher': 1379.6490277186267, 'drymass_fromcarbs_higher': 21.230304795108673, 'energyfrac_fromcarbs_lower': 0.03367570081022469, 'energyfrac_fromcarbs_higher': 0.05831956689528427, 'FP_fromcarbs_standard_error': 130.57935182152568, 'FP_fromcarbs_gsum_standard_error': 8.899593440274653, 'drymass_fromcarbs_standard_error': 4.485602484455027, 'energy_fromcarbs_standard_error': 28.03239767175528, 'energyfrac_fromcarbs_standard_error': 0.012321933042529794, 'FP_infeces': 9.041213793103447, 'FP_infeces_error': 9.41793103448276}\n"
     ]
    }
   ],
   "source": [
    "print(BRD)\n",
    "with open('data_analysisresults/BRD_characteristics.json', 'w') as fp:\n",
    "    json.dump(BRD, fp)"
   ]
  },
  {
   "cell_type": "code",
   "execution_count": null,
   "metadata": {},
   "outputs": [],
   "source": []
  },
  {
   "cell_type": "code",
   "execution_count": null,
   "metadata": {},
   "outputs": [],
   "source": []
  },
  {
   "cell_type": "code",
   "execution_count": null,
   "metadata": {},
   "outputs": [],
   "source": []
  },
  {
   "cell_type": "code",
   "execution_count": null,
   "metadata": {},
   "outputs": [],
   "source": []
  }
 ],
 "metadata": {
  "kernelspec": {
   "display_name": "Python 3 (ipykernel)",
   "language": "python",
   "name": "python3"
  },
  "language_info": {
   "codemirror_mode": {
    "name": "ipython",
    "version": 3
   },
   "file_extension": ".py",
   "mimetype": "text/x-python",
   "name": "python",
   "nbconvert_exporter": "python",
   "pygments_lexer": "ipython3",
   "version": "3.11.0"
  }
 },
 "nbformat": 4,
 "nbformat_minor": 4
}
